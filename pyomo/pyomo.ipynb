{
 "cells": [
  {
   "cell_type": "markdown",
   "id": "5a5bf20b",
   "metadata": {},
   "source": [
    "<br>\n",
    "<br>\n",
    "\n",
    "![iteso](https://upload.wikimedia.org/wikipedia/en/5/5f/Western_Institute_of_Technology_and_Higher_Education_logo.png)\n",
    "\n",
    "### InstitutoTecnológico y de Estudios Superiores de Occidente ###\n",
    "### Maestría Ciencia de Datos  ###\n",
    "### Optimización Convexa ###\n",
    "## HW 11: pyomo  ##\n",
    "\n",
    "<br>\n",
    "<br>\n",
    "\n",
    "* * *\n",
    "\n",
    "Estudiante: Daniel Nuño <br>\n",
    "Profesor: Dr. Juan Diego Sanchez Torres <br>\n",
    "Fecha entrega: 5 abril, 2022 <br>\n",
    "\n",
    "* * *\n",
    "\n",
    "<br>\n",
    "<br>"
   ]
  },
  {
   "cell_type": "raw",
   "id": "3c7406d4",
   "metadata": {},
   "source": [
    "<div style=\"page-break-after: always;\"></div>"
   ]
  },
  {
   "cell_type": "markdown",
   "id": "801cb367",
   "metadata": {},
   "source": [
    "### Introduction ###\n",
    "Usually, real-life optimization problems are too complex to be solved manually. That is why there are several software tools oriented to the solution of this class of problems. When the formulation is convex, the numerical solution methods implemented in software packages are usually quite efficient. An example of this is the Python package Pyomo, which offers a structured and orderly way of solving various types’ optimization problems. Thus, in this case, we will solve some practical nature problems to reinforce the ability to implement optimization models with computers’ help.\n",
    "\n",
    "### Problem 1 ###\n",
    "Use the Pyomo package and [slides](https://github.com/jckantor/ND-Pyomo-Cookbook/tree/master/PyomoFest/slides) to reproduce all the seven examples of the [Pyomo Gallery](https://github.com/Pyomo/PyomoGallery/wiki). Note that some details are missing, and the code may need an update. So, it is necessary an adequate mathematical formulation, a brief background of the problem (and its bibliographical references), a much better explanation, more graphics, and an updated and working code (consider the good practices of coding, as the presence of comments, spacing, and tabulation).\n",
    "\n",
    "#### The Diet Problem ####\n",
    "##### Summary\n",
    "The goal of the Diet Problem is to select foods that satisfy daily nutritional requirements at minimum cost. This problem can be formulated as a linear program, for which constraints limit the number of calories and the amount of vitamins, minerals, fats, sodium, and cholesterol in the diet. Danzig (1990) notes that the diet problem was motivated by the US Army's desire to minimize the cost of feeding GIs in the field while still providing a healthy diet.\n",
    "##### Problem Statement\n",
    "The Diet Problem can be formulated mathematically as a linear programming problem using the following model. <br>\n",
    "**SETS** <br>\n",
    "$ F = set of foods $ <br>\n",
    "$ N = set of nutrients $ <br>\n",
    "\n",
    "**Parameters** <br>\n",
    "$c_i$ = cost per serving of food $i$, $\\forall i \\in F$  <br>\n",
    "$a_{ij}$ = amount of nutrient $j$ in food $i$, $\\forall i \\in F, \\forall j \\in N$ <br>\n",
    "$Nmin_j$ = minimum level of nutrient $j$, $\\forall j \\in N$  <br>\n",
    "$Nmax_j$ = maximum level of nutrient $j$, $\\forall j \\in N$  <br>\n",
    "$V_i$ = the volume per serving of food $i$, $\\forall i \\in F$  <br>\n",
    "$Vmax$ = maximum volume of food consumed <br>\n",
    "\n",
    "**Variables**<br>\n",
    "$x_i=$ number of servings of food $i$ to consume\n",
    "\n",
    "**Objective**<br>\n",
    "Minimize the total cost of food\n",
    "$\\min \\sum_{i \\in F} c_i x_i$\n",
    "\n",
    "**Constraints**<br>\n",
    "Limit nutrient consumption for each nutrient $j \\in N$ <br>\n",
    "$Nmin_j \\leq \\sum_{i \\in F} a_{ij} x_i \\leq Nmax_j$, $\\forall j \\in N$\n",
    "\n",
    "Limit the volume of food consumed<br>\n",
    "$\\sum_{i \\in F} V_i x_i \\leq Vmax$\n",
    "\n",
    "Consumption lower bound<br>\n",
    "$x_i \\geq 0$, $\\forall i \\in F$\n",
    "\n",
    "##### Pyomo Formulation #####\n",
    "We begin by importing the Pyomo package and creating a model object:"
   ]
  },
  {
   "cell_type": "code",
   "execution_count": 1,
   "id": "283ced12",
   "metadata": {},
   "outputs": [],
   "source": [
    "from pyomo.environ import *\n",
    "infinity = float('inf')\n",
    "\n",
    "model = AbstractModel()"
   ]
  },
  {
   "cell_type": "markdown",
   "id": "2c5ace0c",
   "metadata": {},
   "source": [
    "The sets F and N are declared abstractly using the Set component:"
   ]
  },
  {
   "cell_type": "code",
   "execution_count": 2,
   "id": "a9a85bdb",
   "metadata": {},
   "outputs": [],
   "source": [
    "# Foods\n",
    "model.F = Set()\n",
    "# Nutrients\n",
    "model.N = Set()"
   ]
  },
  {
   "cell_type": "markdown",
   "id": "6e2f3efa",
   "metadata": {},
   "source": [
    "Similarly, the model parameters are defined abstractly using the Param component:"
   ]
  },
  {
   "cell_type": "code",
   "execution_count": 3,
   "id": "928edea7",
   "metadata": {},
   "outputs": [],
   "source": [
    "# Cost of each food\n",
    "model.c    = Param(model.F, within=PositiveReals)\n",
    "# Amount of nutrient in each food\n",
    "model.a    = Param(model.F, model.N, within=NonNegativeReals)\n",
    "# Lower and upper bound on each nutrient\n",
    "model.Nmin = Param(model.N, within=NonNegativeReals, default=0.0)\n",
    "model.Nmax = Param(model.N, within=NonNegativeReals, default=infinity)\n",
    "# Volume per serving of food\n",
    "model.V    = Param(model.F, within=PositiveReals)\n",
    "# Maximum volume of food consumed\n",
    "model.Vmax = Param(within=PositiveReals)"
   ]
  },
  {
   "cell_type": "markdown",
   "id": "7743939f",
   "metadata": {},
   "source": [
    "The within option is used in these parameter declarations to define expected properties of the parameters. This information is used to perform error checks on the data that is used to initialize the parameter components.\n",
    "<br>\n",
    "The Var component is used to define the decision variables:"
   ]
  },
  {
   "cell_type": "code",
   "execution_count": 4,
   "id": "d277dfaf",
   "metadata": {},
   "outputs": [],
   "source": [
    "# Number of servings consumed of each food\n",
    "model.x = Var(model.F, within=NonNegativeIntegers)"
   ]
  },
  {
   "cell_type": "markdown",
   "id": "01701458",
   "metadata": {},
   "source": [
    "The `within` option is used to restrict the domain of the decision variables to the non-negative reals. This eliminates the need for explicit bound constraints for variables.\n",
    "\n",
    "The `Objective` component is used to define the cost objective.  This component uses a rule function to construct the objective expression:"
   ]
  },
  {
   "cell_type": "code",
   "execution_count": 5,
   "id": "afc2934a",
   "metadata": {},
   "outputs": [],
   "source": [
    "# Minimize the cost of food that is consumed\n",
    "def cost_rule(model):\n",
    "    return sum(model.c[i]*model.x[i] for i in model.F)\n",
    "model.cost = Objective(rule=cost_rule)"
   ]
  },
  {
   "cell_type": "markdown",
   "id": "5edb4b1f",
   "metadata": {},
   "source": [
    "Similarly, rule functions are used to define constraint expressions in the `Constraint` component:"
   ]
  },
  {
   "cell_type": "code",
   "execution_count": 6,
   "id": "33e15416",
   "metadata": {},
   "outputs": [],
   "source": [
    "# Limit nutrient consumption for each nutrient\n",
    "def nutrient_rule(model, j):\n",
    "    value = sum(model.a[i,j]*model.x[i] for i in model.F)\n",
    "    return inequality(model.Nmin[j], value, model.Nmax[j])\n",
    "model.nutrient_limit = Constraint(model.N, rule=nutrient_rule)\n",
    "\n",
    "# Limit the volume of food consumed\n",
    "def volume_rule(model):\n",
    "    return sum(model.V[i]*model.x[i] for i in model.F) <= model.Vmax\n",
    "model.volume = Constraint(rule=volume_rule)"
   ]
  },
  {
   "cell_type": "markdown",
   "id": "b19f2977",
   "metadata": {},
   "source": [
    "Similarly, rule functions are used to define constraint expressions in the `Constraint` component:"
   ]
  },
  {
   "cell_type": "code",
   "execution_count": 7,
   "id": "9e33c07b",
   "metadata": {},
   "outputs": [
    {
     "name": "stdout",
     "output_type": "stream",
     "text": [
      "WARNING: Implicitly replacing the Component attribute nutrient_limit\n",
      "    (type=<class 'pyomo.core.base.constraint.IndexedConstraint'>) on block\n",
      "    unknown with a new Component (type=<class\n",
      "    'pyomo.core.base.constraint.IndexedConstraint'>). This is usually\n",
      "    indicative of a modelling error. To avoid this warning, use\n",
      "    block.del_component() and block.add_component().\n",
      "WARNING: Implicitly replacing the Component attribute volume (type=<class\n",
      "    'pyomo.core.base.constraint.AbstractScalarConstraint'>) on block unknown\n",
      "    with a new Component (type=<class\n",
      "    'pyomo.core.base.constraint.AbstractScalarConstraint'>). This is usually\n",
      "    indicative of a modelling error. To avoid this warning, use\n",
      "    block.del_component() and block.add_component().\n"
     ]
    }
   ],
   "source": [
    "# Limit nutrient consumption for each nutrient\n",
    "def nutrient_rule(model, j):\n",
    "    value = sum(model.a[i,j]*model.x[i] for i in model.F)\n",
    "    return inequality(model.Nmin[j], value, model.Nmax[j])\n",
    "model.nutrient_limit = Constraint(model.N, rule=nutrient_rule)\n",
    "\n",
    "# Limit the volume of food consumed\n",
    "def volume_rule(model):\n",
    "    return sum(model.V[i]*model.x[i] for i in model.F) <= model.Vmax\n",
    "model.volume = Constraint(rule=volume_rule)"
   ]
  },
  {
   "cell_type": "markdown",
   "id": "7524a3d6",
   "metadata": {},
   "source": [
    "Putting these declarations all together gives the following model:\n",
    "`!cat diet.py`\n",
    "\n",
    "**Model Data**<br>\n",
    "Since this is an abstract Pyomo model, the set and parameter values need to be provided to initialize the model. The following data command file provides a synthetic data set:\n"
   ]
  },
  {
   "cell_type": "code",
   "execution_count": 11,
   "id": "961a08ec",
   "metadata": {},
   "outputs": [
    {
     "name": "stdout",
     "output_type": "stream",
     "text": [
      "param:  F:                          c     V  :=\n",
      "  \"Cheeseburger\"                 1.84   4.0  \n",
      "  \"Ham Sandwich\"                 2.19   7.5  \n",
      "  \"Hamburger\"                    1.84   3.5  \n",
      "  \"Fish Sandwich\"                1.44   5.0  \n",
      "  \"Chicken Sandwich\"             2.29   7.3  \n",
      "  \"Fries\"                         .77   2.6  \n",
      "  \"Sausage Biscuit\"              1.29   4.1  \n",
      "  \"Lowfat Milk\"                   .60   8.0 \n",
      "  \"Orange Juice\"                  .72  12.0 ;\n",
      "\n",
      "param Vmax := 75.0;\n",
      "\n",
      "param:  N:       Nmin   Nmax :=\n",
      "        Cal      2000      .\n",
      "        Carbo     350    375\n",
      "        Protein    55      .\n",
      "        VitA      100      .\n",
      "        VitC      100      .\n",
      "        Calc      100      .\n",
      "        Iron      100      . ;\n",
      "\n",
      "param a:\n",
      "                               Cal  Carbo Protein   VitA   VitC  Calc  Iron :=\n",
      "  \"Cheeseburger\"               510     34     28     15      6    30    20\n",
      "  \"Ham Sandwich\"               370     35     24     15     10    20    20\n",
      "  \"Hamburger\"                  500     42     25      6      2    25    20\n",
      "  \"Fish Sandwich\"              370     38     14      2      0    15    10\n",
      "  \"Chicken Sandwich\"           400     42     31      8     15    15     8\n",
      "  \"Fries\"                      220     26      3      0     15     0     2\n",
      "  \"Sausage Biscuit\"            345     27     15      4      0    20    15\n",
      "  \"Lowfat Milk\"                110     12      9     10      4    30     0\n",
      "  \"Orange Juice\"                80     20      1      2    120     2     2 ;\n"
     ]
    }
   ],
   "source": [
    "!type diet.dat"
   ]
  },
  {
   "cell_type": "markdown",
   "id": "ef2cae1b",
   "metadata": {},
   "source": [
    "Set data is defined with the `set` command, and parameter data is defined with the `param` command.\n",
    "\n",
    "This data set considers the problem of designing a daily diet with only food from a fast food chain.\n",
    "\n",
    "**Solution**<br>\n",
    "Pyomo includes `pyomo` command that automates the construction and optimization of models. The GLPK solver can be used in this simple example."
   ]
  },
  {
   "cell_type": "code",
   "execution_count": 12,
   "id": "7253546c",
   "metadata": {},
   "outputs": [
    {
     "name": "stdout",
     "output_type": "stream",
     "text": [
      "[    0.00] Setting up Pyomo environment\n",
      "[    0.00] Applying Pyomo preprocessing actions\n",
      "[    0.02] Creating model\n",
      "[    0.07] Applying solver\n",
      "[    0.91] Processing results\n",
      "    Number of solutions: 1\n",
      "    Solution Information\n",
      "      Gap: 0.0\n",
      "      Status: optimal\n",
      "      Function Value: 15.05\n",
      "    Solver results file: results.yml"
     ]
    },
    {
     "name": "stderr",
     "output_type": "stream",
     "text": [
      "errorcode: 0\n",
      "retval:\n",
      "    instance: <pyomo.core.base.PyomoModel.ConcreteModel object at 0x0000019F512F9200>\n",
      "    local:\n",
      "        time_initial_import: 0.023150920867919922\n",
      "        usermodel: <module 'diet' from 'C:\\\\Users\\\\nuno\\\\OneDrive - ITESO\\\\Ciencia de Datos\\\\optimizacion_convexa\\\\diet.py'>\n",
      "    options: <pyomo.common.config.ConfigDict object at 0x0000019F53E347C0>\n",
      "    results: {'Problem': [{'Name': 'unknown', 'Lower bound': 15.05, 'Upper bound': 15.05, 'Number of objectives': 1, 'Number of constraints': 10, 'Number of variables': 10, 'Number of nonzeros': 77, 'Sense': 'minimize'}], 'Solver': [{'Status': 'ok', 'Termination condition': 'optimal', 'Statistics': {'Branch and bound': {'Number of bounded subproblems': '23', 'Number of created subproblems': '23'}}, 'Error rc': 0, 'Time': 0.11207938194274902}], 'Solution': [OrderedDict([('number of solutions', 1), ('number of solutions displayed', 1)]), {'Gap': 0.0, 'Status': 'optimal', 'Message': None, 'Problem': {}, 'Objective': {'cost': {'Value': 15.05}}, 'Variable': {'x[Cheeseburger]': {'Value': 4.0}, 'x[Ham Sandwich]': {'Value': 0.0}, 'x[Hamburger]': {'Value': 0.0}, 'x[Fish Sandwich]': {'Value': 1.0}, 'x[Chicken Sandwich]': {'Value': 0.0}, 'x[Fries]': {'Value': 5.0}, 'x[Sausage Biscuit]': {'Value': 0.0}, 'x[Lowfat Milk]': {'Value': 4.0}, 'x[Orange Juice]': {'Value': 0.0}}, 'Constraint': {}}]}\n"
     ]
    },
    {
     "name": "stdout",
     "output_type": "stream",
     "text": [
      "\n",
      "[    0.91] Applying Pyomo postprocessing actions\n",
      "[    0.91] Pyomo Finished\n"
     ]
    }
   ],
   "source": [
    "!pyomo solve --solver=glpk diet.py diet.dat"
   ]
  },
  {
   "cell_type": "code",
   "execution_count": 13,
   "id": "44b408ee",
   "metadata": {},
   "outputs": [
    {
     "name": "stdout",
     "output_type": "stream",
     "text": [
      "# ==========================================================\n",
      "# = Solver Results                                         =\n",
      "# ==========================================================\n",
      "# ----------------------------------------------------------\n",
      "#   Problem Information\n",
      "# ----------------------------------------------------------\n",
      "Problem: \n",
      "- Name: unknown\n",
      "  Lower bound: 15.05\n",
      "  Upper bound: 15.05\n",
      "  Number of objectives: 1\n",
      "  Number of constraints: 10\n",
      "  Number of variables: 10\n",
      "  Number of nonzeros: 77\n",
      "  Sense: minimize\n",
      "# ----------------------------------------------------------\n",
      "#   Solver Information\n",
      "# ----------------------------------------------------------\n",
      "Solver: \n",
      "- Status: ok\n",
      "  Termination condition: optimal\n",
      "  Statistics: \n",
      "    Branch and bound: \n",
      "      Number of bounded subproblems: 23\n",
      "      Number of created subproblems: 23\n",
      "  Error rc: 0\n",
      "  Time: 0.11207938194274902\n",
      "# ----------------------------------------------------------\n",
      "#   Solution Information\n",
      "# ----------------------------------------------------------\n",
      "Solution: \n",
      "- number of solutions: 1\n",
      "  number of solutions displayed: 1\n",
      "- Gap: 0.0\n",
      "  Status: optimal\n",
      "  Message: None\n",
      "  Objective:\n",
      "    cost:\n",
      "      Value: 15.05\n",
      "  Variable:\n",
      "    x[Cheeseburger]:\n",
      "      Value: 4\n",
      "    x[Fish Sandwich]:\n",
      "      Value: 1\n",
      "    x[Fries]:\n",
      "      Value: 5\n",
      "    x[Lowfat Milk]:\n",
      "      Value: 4\n",
      "  Constraint: No values\n"
     ]
    }
   ],
   "source": [
    "!type results.yml"
   ]
  },
  {
   "cell_type": "markdown",
   "id": "da03853c",
   "metadata": {},
   "source": [
    "This solution shows that for about $15 per day, a person can get by with 4 cheeseburgers, 5 fries, 1 fish sandwich and 4 milks."
   ]
  },
  {
   "cell_type": "markdown",
   "id": "86fbc514",
   "metadata": {},
   "source": [
    "#### Max Flow ####\n",
    "##### Summary #####\n",
    "The goal of the maximum flow problem is to find the maximum flow possible in a network from some given source node to a given sink node. Applications of the max flow problem include finding the maximum flow of orders through a job shop, the maximum flow of water through a storm sewer system, and the maximum flow of product through a product distribution system, among others. Schrijver (2002) note that the maximum flow problem was first formulated in 1954 by T. E. Harris and F. S. Ross as a simplified model of Soviet railway traffic flow.\n",
    "\n",
    "A network is a directed graph, and the arc capacities, or upper bounds, are the only relevant parameters. A network graph does not have to be symmetric: if an arc (v,w) is in the graph, the reverse arc (w,v) does not have to be in the graph. Further, parallel arcs are not allowed, and self-loops are not allowed. The source and the sink are distinct nodes in the network, but the sink may be unreachable from the source.\n",
    "\n",
    "##### Problem Statement #####\n",
    "The max flow problem can be formulated mathematically as a linear programming problem using the following model.\n",
    "\n",
    "**Sets**<br>\n",
    "$N$ = nodes in the network<br>\n",
    "$A$ = network arcs<br>\n",
    "**Parameters**<br>\n",
    "$s$ = source node<br>\n",
    "$t$ = sink node<br>\n",
    "$c_{ij}$ = arc flow capacity, $\\forall (i,j) \\in A$<br>\n",
    "**Variables**<br>\n",
    "$f_{i,j}$ = arc flow, $\\forall (i,j) \\in A$<br>\n",
    "**Objective**<br>\n",
    "Maximize the flow into the sink nodes<br>\n",
    "$\\max \\sum_{\\{i \\mid (i,t) \\in A\\}} c_{i,t} f_{i,t}$<br>\n",
    "**Constraints**<br>\n",
    "Enforce an upper limit on the flow across each arc<br>\n",
    "$f_{i,j} \\leq c_{i,j}$, $\\forall (i,j) \\in A$<br>\n",
    "<br>\n",
    "Enforce flow through each node<br>\n",
    "$\\sum_{\\{i \\mid (i,j) \\in A\\}} f_{i,j} = \\sum_{\\{i \\mid (j,i) \\in A\\}} f_{j,i}$, $\\forall j \\in N - \\{s,t\\}$<br>\n",
    "<br>\n",
    "Flow lower bound <br>\n",
    "$f_{i,j} \\geq 0$, $\\forall (i,j) \\in A$<br>\n",
    "<br>\n",
    "##### Pyomo Formulation #####\n",
    "\n",
    "We begin by importing the Pyomo package and creating a model object:"
   ]
  },
  {
   "cell_type": "code",
   "execution_count": 14,
   "id": "dbc7858a",
   "metadata": {},
   "outputs": [],
   "source": [
    "from pyomo.environ import *\n",
    "model = AbstractModel()"
   ]
  },
  {
   "cell_type": "markdown",
   "id": "5718a7ea",
   "metadata": {},
   "source": [
    "The sets N and A are declared abstractly using the `Set` component:"
   ]
  },
  {
   "cell_type": "code",
   "execution_count": 15,
   "id": "c22f0e88",
   "metadata": {},
   "outputs": [],
   "source": [
    "# Nodes in the network\n",
    "model.N = Set()\n",
    "# Network arcs\n",
    "model.A = Set(within=model.N*model.N)"
   ]
  },
  {
   "cell_type": "markdown",
   "id": "70233afc",
   "metadata": {},
   "source": [
    "Similarly, the model parameters are defined abstractly using the `Param` component:"
   ]
  },
  {
   "cell_type": "code",
   "execution_count": 16,
   "id": "dffcf690",
   "metadata": {},
   "outputs": [],
   "source": [
    "# Source node\n",
    "model.s = Param(within=model.N)\n",
    "# Sink node\n",
    "model.t = Param(within=model.N)\n",
    "# Flow capacity limits\n",
    "model.c = Param(model.A)"
   ]
  },
  {
   "cell_type": "markdown",
   "id": "d0cca6e5",
   "metadata": {},
   "source": [
    "The `within` option is used in these parameter declarations to define expected properties of the parameters. This information is used to perform error checks on the data that is used to initialize the parameter components.\n",
    "\n",
    "The `Var` component is used to define the decision variables:"
   ]
  },
  {
   "cell_type": "code",
   "execution_count": 17,
   "id": "83020bf3",
   "metadata": {},
   "outputs": [],
   "source": [
    "# The flow over each arc\n",
    "model.f = Var(model.A, within=NonNegativeReals)"
   ]
  },
  {
   "cell_type": "markdown",
   "id": "efee8733",
   "metadata": {},
   "source": [
    "The `within` option is used to restrict the domain of the decision variables to the non-negative reals. This eliminates the need for explicit bound constraints for variables.\n",
    "\n",
    "The `Objective` component is used to define the cost objective. This component uses a rule function to construct the objective expression:"
   ]
  },
  {
   "cell_type": "code",
   "execution_count": 18,
   "id": "2adc876f",
   "metadata": {},
   "outputs": [],
   "source": [
    "# Maximize the flow into the sink nodes\n",
    "def total_rule(model):\n",
    "    return sum(model.f[i,j] for (i, j) in model.A if j == value(model.t))\n",
    "model.total = Objective(rule=total_rule, sense=maximize)"
   ]
  },
  {
   "cell_type": "markdown",
   "id": "10d7047a",
   "metadata": {},
   "source": [
    "Similarly, rule functions are used to define constraint expressions in the `Constraint` component:"
   ]
  },
  {
   "cell_type": "code",
   "execution_count": 19,
   "id": "c9230bfc",
   "metadata": {},
   "outputs": [],
   "source": [
    "# Enforce an upper limit on the flow across each arc\n",
    "def limit_rule(model, i, j):\n",
    "    return model.f[i,j] <= model.c[i, j]\n",
    "model.limit = Constraint(model.A, rule=limit_rule)\n",
    "\n",
    "# Enforce flow through each node\n",
    "def flow_rule(model, k):\n",
    "    if k == value(model.s) or k == value(model.t):\n",
    "        return Constraint.Skip\n",
    "    inFlow  = sum(model.f[i,j] for (i,j) in model.A if j == k)\n",
    "    outFlow = sum(model.f[i,j] for (i,j) in model.A if i == k)\n",
    "    return inFlow == outFlow\n",
    "model.flow = Constraint(model.N, rule=flow_rule)"
   ]
  },
  {
   "cell_type": "markdown",
   "id": "32faf47b",
   "metadata": {},
   "source": [
    "Putting these declarations all together gives the following model: `maxflow.py`\n",
    "\n",
    "##### Model Data #####\n",
    "Since this is an abstract Pyomo model, the set and parameter values need to be provided to initialize the model. The following data command file provides a synthetic data set:"
   ]
  },
  {
   "cell_type": "code",
   "execution_count": 1,
   "id": "151cc76f",
   "metadata": {},
   "outputs": [
    {
     "name": "stdout",
     "output_type": "stream",
     "text": [
      "set N := Zoo A B C D E Home;\n",
      "set A := (Zoo,A) (Zoo,B) (A,C) (A,D) (B,A) (B,C) (C,D) (C,E) (D,E) (D,Home) (E,Home);\n",
      "\n",
      "param s := Zoo;\n",
      "param t := Home;\n",
      "param: c :=\n",
      "Zoo A 11\n",
      "Zoo B 8\n",
      "A C 5\n",
      "A D 8\n",
      "B A 4\n",
      "B C 3\n",
      "C D 2\n",
      "C E 4\n",
      "D E 5\n",
      "D Home 8\n",
      "E Home 6;\n"
     ]
    }
   ],
   "source": [
    "!type maxflow.dat"
   ]
  },
  {
   "cell_type": "markdown",
   "id": "83538de5",
   "metadata": {},
   "source": [
    "Set data is defined with the `set` command, and parameter data is defined with the `param` command.\n",
    "\n",
    "This data set considers the problem of maximizing flow in a zoo. A panda is about to give birth at the zoo! Officials anticipate that attendance will skyrocket to see the new, adorable baby panda. There's one particular residential area called \"Home\" that is full of panda loving families and there's a fear that the increased number of people visiting the zoo will overload the public transportation system. It will be especially bad in the evening since the zoo closes about the same time as rush hour, so everyone will be trying to find space on the already crowded buses and subways. As a city planner, you were given a map of routes from the zoo to Home, along with the estimated number of families that could go on each route. Additionally, it was estimated that 16 families from Home will visit each day, and it's your task to figure out if this will overload the public transportation system, and, if it does, how could the system be improved?\n",
    "\n",
    "##### Solution #####\n",
    "Pyomo includes pyomo command that automates the construction and optimization of modesl. The GLPK solver can be used in this example:"
   ]
  },
  {
   "cell_type": "code",
   "execution_count": 3,
   "id": "b65af1e7",
   "metadata": {},
   "outputs": [
    {
     "name": "stdout",
     "output_type": "stream",
     "text": [
      "[    0.00] Setting up Pyomo environment\n",
      "[    0.00] Applying Pyomo preprocessing actions\n",
      "[    0.03] Creating model\n",
      "[    0.05] Applying solver\n",
      "[    0.39] Processing results\n",
      "    Number of solutions: 1\n",
      "    Solution Information\n",
      "      Gap: 0.0\n",
      "      Status: feasible\n",
      "      Function Value: 14.0\n",
      "    Solver results file: results.yml\n",
      "[    0.39] Applying Pyomo postprocessing actions\n",
      "[    0.39] Pyomo Finished\n"
     ]
    },
    {
     "name": "stderr",
     "output_type": "stream",
     "text": [
      "errorcode: 0\n",
      "retval:\n",
      "    instance: <pyomo.core.base.PyomoModel.ConcreteModel object at 0x00000224A10EC340>\n",
      "    local:\n",
      "        time_initial_import: 0.03128457069396973\n",
      "        usermodel: <module 'maxflow' from 'C:\\\\Users\\\\nuno\\\\OneDrive - ITESO\\\\Ciencia de Datos\\\\optimizacion_convexa\\\\pyomo\\\\maxflow.py'>\n",
      "    options: <pyomo.common.config.ConfigDict object at 0x00000224A3C147C0>\n",
      "    results: {'Problem': [{'Name': 'unknown', 'Lower bound': 14.0, 'Upper bound': 14.0, 'Number of objectives': 1, 'Number of constraints': 17, 'Number of variables': 12, 'Number of nonzeros': 30, 'Sense': 'maximize'}], 'Solver': [{'Status': 'ok', 'Termination condition': 'optimal', 'Statistics': {'Branch and bound': {'Number of bounded subproblems': 0, 'Number of created subproblems': 0}}, 'Error rc': 0, 'Time': 0.16941523551940918}], 'Solution': [OrderedDict([('number of solutions', 1), ('number of solutions displayed', 1)]), {'Gap': 0.0, 'Status': 'feasible', 'Message': None, 'Problem': {}, 'Objective': {'total': {'Value': 14.0}}, 'Variable': {'f[Zoo,A]': {'Value': 11.0}, 'f[Zoo,B]': {'Value': 3.0}, 'f[A,C]': {'Value': 3.0}, 'f[A,D]': {'Value': 8.0}, 'f[B,A]': {'Value': 0.0}, 'f[B,C]': {'Value': 3.0}, 'f[C,D]': {'Value': 2.0}, 'f[C,E]': {'Value': 4.0}, 'f[D,E]': {'Value': 2.0}, 'f[D,Home]': {'Value': 8.0}, 'f[E,Home]': {'Value': 6.0}}, 'Constraint': {}}]}\n"
     ]
    }
   ],
   "source": [
    "!pyomo solve --solver=glpk maxflow.py maxflow.dat"
   ]
  },
  {
   "cell_type": "markdown",
   "id": "65b70b89",
   "metadata": {},
   "source": [
    "By default, the optimization results are stored in the file results.yml:"
   ]
  },
  {
   "cell_type": "code",
   "execution_count": 4,
   "id": "8238bb78",
   "metadata": {},
   "outputs": [
    {
     "name": "stdout",
     "output_type": "stream",
     "text": [
      "# ==========================================================\n",
      "# = Solver Results                                         =\n",
      "# ==========================================================\n",
      "# ----------------------------------------------------------\n",
      "#   Problem Information\n",
      "# ----------------------------------------------------------\n",
      "Problem: \n",
      "- Name: unknown\n",
      "  Lower bound: 14.0\n",
      "  Upper bound: 14.0\n",
      "  Number of objectives: 1\n",
      "  Number of constraints: 17\n",
      "  Number of variables: 12\n",
      "  Number of nonzeros: 30\n",
      "  Sense: maximize\n",
      "# ----------------------------------------------------------\n",
      "#   Solver Information\n",
      "# ----------------------------------------------------------\n",
      "Solver: \n",
      "- Status: ok\n",
      "  Termination condition: optimal\n",
      "  Statistics: \n",
      "    Branch and bound: \n",
      "      Number of bounded subproblems: 0\n",
      "      Number of created subproblems: 0\n",
      "  Error rc: 0\n",
      "  Time: 0.16941523551940918\n",
      "# ----------------------------------------------------------\n",
      "#   Solution Information\n",
      "# ----------------------------------------------------------\n",
      "Solution: \n",
      "- number of solutions: 1\n",
      "  number of solutions displayed: 1\n",
      "- Gap: 0.0\n",
      "  Status: feasible\n",
      "  Message: None\n",
      "  Objective:\n",
      "    total:\n",
      "      Value: 14\n",
      "  Variable:\n",
      "    f[A,C]:\n",
      "      Value: 3\n",
      "    f[A,D]:\n",
      "      Value: 8\n",
      "    f[B,C]:\n",
      "      Value: 3\n",
      "    f[C,D]:\n",
      "      Value: 2\n",
      "    f[C,E]:\n",
      "      Value: 4\n",
      "    f[D,E]:\n",
      "      Value: 2\n",
      "    f[D,Home]:\n",
      "      Value: 8\n",
      "    f[E,Home]:\n",
      "      Value: 6\n",
      "    f[Zoo,A]:\n",
      "      Value: 11\n",
      "    f[Zoo,B]:\n",
      "      Value: 3\n",
      "  Constraint: No values\n"
     ]
    }
   ],
   "source": [
    "!type results.yml"
   ]
  },
  {
   "cell_type": "markdown",
   "id": "7e921203",
   "metadata": {},
   "source": [
    "This output tells us how many people should travel along each route for the optimal solution. More importantly, though, is the line which says our objective value is 14. This means that at most 14 families can arrive at Home. However, we were told 16 families from Home were expected to visit the zoo each day. Therefore, unless something is done, the public transportation network in place will be overloaded.\n",
    "\n",
    "**References**\n",
    "- A. Schrijver, (2002). \"On the history of the transportation and maximum flow problems\". Mathematical Programming 91 (3): 437–445.\n",
    "\n",
    "#### The $p$-Median Problem ####\n",
    "##### Summary ####\n",
    "The goal of the p-median problem is to locating p facilities to minimize the demand weighted average distance between demand nodes and the nearest of the selected facilities. Hakimi (1964, 1965) first considered this problem for the design of network switch centers. However, this problem has been used to model a wide range of applications, such as warehouse location, depot location, school districting and sensor placement.\n",
    "\n",
    "##### Problem Statement #####\n",
    "The $p$-median problem can be formulated mathematically as an integer programming problem using the following model.<br>\n",
    "**Sets**<br>\n",
    "$M$ = set of candidate locations<br>\n",
    "$N$ = set of customer demand nodes<br>\n",
    "\n",
    "**Parameters**<br>\n",
    "$p$ = number of facilities to locate<br>\n",
    "$d_j$ = demand of customer $j, \\forall j \\in N$<br>\n",
    "$c_{ij}$ = unit cost of satisfying customer $j$ from facility $i, \\forall i \\in M, \\forall j \\in N$<br>\n",
    "\n",
    "**Variables**<br>\n",
    "$x_{ij}$ = fraction of the demand od customer $j$ that is supplied by facility $i, \\forall i \\in M, \\forall j, \\in N $<br>\n",
    "$y_i$ = a binary value that is 1 if a facility is located at location $i, \\forall i \\in M $ <br>\n",
    "\n",
    "**Objective**<br>\n",
    "Minimize the demand-weighted total cost<br>\n",
    "$\\min \\sum_{i \\in M} \\sum_{j \\in N} d_j c_{ij} x_{ij}$<br>\n",
    "\n",
    "**Constraints**<br>\n",
    "All of the demand for customer $j$ must be satisfied<br>\n",
    "$\\sum_{i \\in M} x_{ij} = 1$, $\\forall j \\in N$<br>\n",
    "<br>\n",
    "Exactly $p$ facilities are located <br>\n",
    "$\\sum_{i \\in M} y_i = p$<br>\n",
    "<br>\n",
    "Demand nodes can only be assigned to open facilities<br>\n",
    "$x_{ij} \\leq y_i$, $\\forall i \\in M, \\forall j \\in N$<br>\n",
    "<br>\n",
    "The assignment variables must be non-negative<br>\n",
    "$x_{ij} \\geq 0$, $\\forall i \\in M, \\forall j \\in N$<br>\n",
    "\n",
    "##### Pyomo Formulation #####\n",
    "The following is an abstract Pyomo model for this problem:"
   ]
  },
  {
   "cell_type": "code",
   "execution_count": 5,
   "id": "75ed959e",
   "metadata": {},
   "outputs": [],
   "source": [
    "from pyomo.environ import *\n",
    "import random\n",
    "\n",
    "random.seed(1000)\n",
    "\n",
    "model = AbstractModel()\n",
    "\n",
    "# Number of candidate locations\n",
    "model.m = Param(within=PositiveIntegers)\n",
    "# Number of customers\n",
    "model.n = Param(within=PositiveIntegers)\n",
    "# Set of candidate locations\n",
    "model.M = RangeSet(1,model.m)\n",
    "# Set of customer nodes\n",
    "model.N = RangeSet(1,model.n)\n",
    "\n",
    "# Number of facilities\n",
    "model.p = Param(within=RangeSet(1,model.n))\n",
    "# d[j] - demand of customer j\n",
    "model.d = Param(model.N, default=1.0)\n",
    "# c[i,j] - unit cost of satisfying customer j from facility i\n",
    "model.c = Param(model.M, model.N, initialize=lambda i, j, model : random.uniform(1.0,2.0), within=Reals)\n",
    "\n",
    "# x[i,j] - fraction of the demand of customer j that is supplied by facility i\n",
    "model.x = Var(model.M, model.N, bounds=(0.0,1.0))\n",
    "# y[i] - a binary value that is 1 is a facility is located at location i\n",
    "model.y = Var(model.M, within=Binary)\n",
    "\n",
    "# Minimize the demand-weighted total cost\n",
    "def cost_(model):\n",
    "    return sum(model.d[j]*model.c[i,j]*model.x[i,j] for i in model.M for j in model.N)\n",
    "model.cost = Objective(rule=cost_)\n",
    "\n",
    "# All of the demand for customer j must be satisfied\n",
    "def demand_(model, j):\n",
    "    return sum(model.x[i,j] for i in model.M) == 1.0\n",
    "model.demand = Constraint(model.N, rule=demand_)\n",
    "\n",
    "# Exactly p facilities are located\n",
    "def facilities_(model):\n",
    "    return sum(model.y[i] for i in model.M) == model.p\n",
    "model.facilities = Constraint(rule=facilities_)\n",
    "\n",
    "# Demand nodes can only be assigned to open facilities \n",
    "def openfac_(model, i, j):\n",
    "    return model.x[i,j] <= model.y[i]\n",
    "model.openfac = Constraint(model.M, model.N, rule=openfac_)"
   ]
  },
  {
   "cell_type": "markdown",
   "id": "4b625d40",
   "metadata": {},
   "source": [
    "This model is simplified in several respects. First, the candidate locations and customer locations are treated as numeric ranges. Second, the demand values, dj are initialized with a default value of **1**. Finally, the cost values, $c_{ij}$ are randomly assigned.\n",
    "##### Model Data #####\n",
    "\n",
    "This model is parameterized by three values: the number of facility locations, the number of customers, and the number of facilities. For example:"
   ]
  },
  {
   "cell_type": "code",
   "execution_count": 6,
   "id": "38e3c142",
   "metadata": {},
   "outputs": [
    {
     "name": "stdout",
     "output_type": "stream",
     "text": [
      "param m := 10;\n",
      "param n := 6;\n",
      "param p := 3;\n"
     ]
    }
   ],
   "source": [
    "!type p-median.dat"
   ]
  },
  {
   "cell_type": "markdown",
   "id": "6a426ece",
   "metadata": {},
   "source": [
    "##### Solution #####\n",
    "Pyomo inclues a pyomo command that automates the construction and optimization of modelst. The GLPK solver can be used in this simple example:"
   ]
  },
  {
   "cell_type": "code",
   "execution_count": 8,
   "id": "17fe4a2e",
   "metadata": {},
   "outputs": [
    {
     "name": "stdout",
     "output_type": "stream",
     "text": [
      "[    0.00] Setting up Pyomo environment\n",
      "[    0.00] Applying Pyomo preprocessing actions\n",
      "[    0.00] Creating model\n",
      "[    0.01] Applying solver\n",
      "[    0.28] Processing results\n",
      "    Number of solutions: 1\n",
      "    Solution Information\n",
      "      Gap: 0.0\n",
      "      Status: optimal\n",
      "      Function Value: 6.431184939357673\n",
      "    Solver results file: results.yml\n",
      "[    0.28] Applying Pyomo postprocessing actions\n",
      "[    0.28] Pyomo Finished\n"
     ]
    },
    {
     "name": "stderr",
     "output_type": "stream",
     "text": [
      "errorcode: 0\n",
      "retval:\n",
      "    instance: <pyomo.core.base.PyomoModel.ConcreteModel object at 0x000001F62F743B40>\n",
      "    local:\n",
      "        time_initial_import: 0.002056598663330078\n",
      "        usermodel: <module 'p-median' from 'C:\\\\Users\\\\nuno\\\\OneDrive - ITESO\\\\Ciencia de Datos\\\\optimizacion_convexa\\\\pyomo\\\\p-median.py'>\n",
      "    options: <pyomo.common.config.ConfigDict object at 0x000001F62F7147C0>\n",
      "    results: {'Problem': [{'Name': 'unknown', 'Lower bound': 6.43118493935767, 'Upper bound': 6.43118493935767, 'Number of objectives': 1, 'Number of constraints': 68, 'Number of variables': 71, 'Number of nonzeros': 191, 'Sense': 'minimize'}], 'Solver': [{'Status': 'ok', 'Termination condition': 'optimal', 'Statistics': {'Branch and bound': {'Number of bounded subproblems': '1', 'Number of created subproblems': '1'}}, 'Error rc': 0, 'Time': 0.13217663764953613}], 'Solution': [OrderedDict([('number of solutions', 1), ('number of solutions displayed', 1)]), {'Gap': 0.0, 'Status': 'optimal', 'Message': None, 'Problem': {}, 'Objective': {'cost': {'Value': 6.431184939357673}}, 'Variable': {'x[1,1]': {'Value': 0.0}, 'x[1,2]': {'Value': 0.0}, 'x[1,3]': {'Value': 0.0}, 'x[1,4]': {'Value': 0.0}, 'x[1,5]': {'Value': 0.0}, 'x[1,6]': {'Value': 0.0}, 'x[2,1]': {'Value': 0.0}, 'x[2,2]': {'Value': 0.0}, 'x[2,3]': {'Value': 0.0}, 'x[2,4]': {'Value': 0.0}, 'x[2,5]': {'Value': 0.0}, 'x[2,6]': {'Value': 0.0}, 'x[3,1]': {'Value': 0.0}, 'x[3,2]': {'Value': 0.0}, 'x[3,3]': {'Value': 0.0}, 'x[3,4]': {'Value': 1.0}, 'x[3,5]': {'Value': 0.0}, 'x[3,6]': {'Value': 0.0}, 'x[4,1]': {'Value': 0.0}, 'x[4,2]': {'Value': 0.0}, 'x[4,3]': {'Value': 0.0}, 'x[4,4]': {'Value': 0.0}, 'x[4,5]': {'Value': 0.0}, 'x[4,6]': {'Value': 0.0}, 'x[5,1]': {'Value': 0.0}, 'x[5,2]': {'Value': 0.0}, 'x[5,3]': {'Value': 0.0}, 'x[5,4]': {'Value': 0.0}, 'x[5,5]': {'Value': 0.0}, 'x[5,6]': {'Value': 0.0}, 'x[6,1]': {'Value': 1.0}, 'x[6,2]': {'Value': 1.0}, 'x[6,3]': {'Value': 1.0}, 'x[6,4]': {'Value': 0.0}, 'x[6,5]': {'Value': 1.0}, 'x[6,6]': {'Value': 0.0}, 'x[7,1]': {'Value': 0.0}, 'x[7,2]': {'Value': 0.0}, 'x[7,3]': {'Value': 0.0}, 'x[7,4]': {'Value': 0.0}, 'x[7,5]': {'Value': 0.0}, 'x[7,6]': {'Value': 0.0}, 'x[8,1]': {'Value': 0.0}, 'x[8,2]': {'Value': 0.0}, 'x[8,3]': {'Value': 0.0}, 'x[8,4]': {'Value': 0.0}, 'x[8,5]': {'Value': 0.0}, 'x[8,6]': {'Value': 0.0}, 'x[9,1]': {'Value': 0.0}, 'x[9,2]': {'Value': 0.0}, 'x[9,3]': {'Value': 0.0}, 'x[9,4]': {'Value': 0.0}, 'x[9,5]': {'Value': 0.0}, 'x[9,6]': {'Value': 1.0}, 'x[10,1]': {'Value': 0.0}, 'x[10,2]': {'Value': 0.0}, 'x[10,3]': {'Value': 0.0}, 'x[10,4]': {'Value': 0.0}, 'x[10,5]': {'Value': 0.0}, 'x[10,6]': {'Value': 0.0}, 'y[1]': {'Value': 0.0}, 'y[2]': {'Value': 0.0}, 'y[3]': {'Value': 1.0}, 'y[4]': {'Value': 0.0}, 'y[5]': {'Value': 0.0}, 'y[6]': {'Value': 1.0}, 'y[7]': {'Value': 0.0}, 'y[8]': {'Value': 0.0}, 'y[9]': {'Value': 1.0}, 'y[10]': {'Value': 0.0}}, 'Constraint': {}}]}\n"
     ]
    }
   ],
   "source": [
    "!pyomo solve --solver=glpk p-median.py p-median.dat"
   ]
  },
  {
   "cell_type": "code",
   "execution_count": 9,
   "id": "40d87c21",
   "metadata": {},
   "outputs": [
    {
     "name": "stdout",
     "output_type": "stream",
     "text": [
      "# ==========================================================\n",
      "# = Solver Results                                         =\n",
      "# ==========================================================\n",
      "# ----------------------------------------------------------\n",
      "#   Problem Information\n",
      "# ----------------------------------------------------------\n",
      "Problem: \n",
      "- Name: unknown\n",
      "  Lower bound: 6.43118493935767\n",
      "  Upper bound: 6.43118493935767\n",
      "  Number of objectives: 1\n",
      "  Number of constraints: 68\n",
      "  Number of variables: 71\n",
      "  Number of nonzeros: 191\n",
      "  Sense: minimize\n",
      "# ----------------------------------------------------------\n",
      "#   Solver Information\n",
      "# ----------------------------------------------------------\n",
      "Solver: \n",
      "- Status: ok\n",
      "  Termination condition: optimal\n",
      "  Statistics: \n",
      "    Branch and bound: \n",
      "      Number of bounded subproblems: 1\n",
      "      Number of created subproblems: 1\n",
      "  Error rc: 0\n",
      "  Time: 0.13217663764953613\n",
      "# ----------------------------------------------------------\n",
      "#   Solution Information\n",
      "# ----------------------------------------------------------\n",
      "Solution: \n",
      "- number of solutions: 1\n",
      "  number of solutions displayed: 1\n",
      "- Gap: 0.0\n",
      "  Status: optimal\n",
      "  Message: None\n",
      "  Objective:\n",
      "    cost:\n",
      "      Value: 6.431184939357673\n",
      "  Variable:\n",
      "    x[3,4]:\n",
      "      Value: 1\n",
      "    x[6,1]:\n",
      "      Value: 1\n",
      "    x[6,2]:\n",
      "      Value: 1\n",
      "    x[6,3]:\n",
      "      Value: 1\n",
      "    x[6,5]:\n",
      "      Value: 1\n",
      "    x[9,6]:\n",
      "      Value: 1\n",
      "    y[3]:\n",
      "      Value: 1\n",
      "    y[6]:\n",
      "      Value: 1\n",
      "    y[9]:\n",
      "      Value: 1\n",
      "  Constraint: No values\n"
     ]
    }
   ],
   "source": [
    "!type results.yml"
   ]
  },
  {
   "cell_type": "markdown",
   "id": "ed7b3bb5",
   "metadata": {},
   "source": [
    "This solution places facilities at locations 3, 6 and 9. Facility 3 meets the demand of customer 4, facility 6 meets the demand of customers 1, 2, 3 and 5, and facility 9 meets the demand of customer 6.\n",
    "\n",
    "##### References\n",
    "- S.L. Hakimi (1964) Optimum location of switching centers and the absolute centers and medians of a graph. Oper Res 12:450–459\n",
    "- S.L. Hakimi (1965) Optimum distribution of switching centers in a communication network and some related graph theoretic problems. Oper Res 13:462–475\n",
    "\n",
    "#### The Transport Problem\n",
    "##### Summary #####\n",
    "The goal of the Transport Problem is to select the quantities of an homogeneous good that has several production plants and several punctiform markets as to minimise the transportation costs.\n",
    "\n",
    "It is the default tutorial for the GAMS language, and GAMS equivalent code is inserted as single-dash comments. The original GAMS code needs slighly different ordering of the commands and it's available at http://www.gams.com/mccarl/trnsport.gms.\n",
    "\n",
    "##### Proble Statement #####\n",
    "The transport problem can be formulated mathematically as a linear programming problem using the following mode.\n",
    "\n",
    "**Sets**<br>\n",
    "$I$ = set of canning plants<br>\n",
    "$J$ = set of markets<br>\n",
    "\n",
    "**Parameters**<br>\n",
    "$a_i$ = capacity of plant $i$ in cases, $\\forall i \\in I$ <br>\n",
    "$b_j$ = demand at market $j$ in cases, $\\forall j \\in J$ <br>\n",
    "$d_{i,j}$ = distance in thousands of miles, $\\forall i \\in I, \\forall j \\in J$ <br>\n",
    "$f$ = freight in dollars per case per thousand miles <br>\n",
    "$c_{i,j}$ = transport cost in thousands of dollars per case<br>\n",
    "$c_{i,j}$ is obtained exougenously to the optimisation problem as $c_{i,j} = f \\cdot d_{i,j}$, $\\forall i \\in I, \\forall j \\in J$<br>\n",
    "\n",
    "**Variables**<br>\n",
    "$x_{i,j}$ = shipment quantities in cases <br>\n",
    "$z$ = total transportation costs in thousands of dollars <br>\n",
    "\n",
    "**Objective**<br>\n",
    "Minimize the total cost of the shipments: <br>\n",
    "\"$\\min_{x} z = \\sum_{i \\in I} \\sum_{j \\in J} c_{i,j} x_{i,j}$<br>\n",
    "<br>\n",
    "\n",
    "**Constraints**<br>\n",
    "Observe supply limit at plant i: <br>\n",
    "$\\sum_{j \\in J} x_{i,j} \\leq a_{i}$, $\\forall i \\in I$<br>\n",
    "<br>\n",
    "Satisfy demand at market j: <br>\n",
    "$\\sum_{i \\in I} x_{i,j} \\geq b_{j}$, $\\forall j \\in J$<br>\n",
    "<br>\n",
    "Non-negative transportation quantities <br>\n",
    "$x_{i,j} \\geq 0$, $\\forall i \\in I, \\forall j \\in J$<br>\n",
    "\n",
    "##### Pyomo Formulation #####\n",
    "In pyomo everything is an object. The various components of the model (sets, parameters, variables, constraints, objective...) are all attributes of the main model object while being objects themselves.\n",
    "\n",
    "There are two type of models in pyomo: A `ConcreteModel` is one where all the data is defined ate the model creation. We are going to use this type of model in this tutorial. Pyomo however supports also and `AbstractModel`, where the model structure is firstly generated and then particular instances of the model are generated with a particular set of data.<br>\n",
    "\n",
    "The first thing to do in the script is lo load pyomo library and create a new `ConcreteModel` object. We have little imagination here, and we call our model \"model\". You can give it whatever name you want. However, if you give your model an other name, you also need to create a `model` object at the end of you script:"
   ]
  },
  {
   "cell_type": "code",
   "execution_count": 10,
   "id": "86be79af",
   "metadata": {},
   "outputs": [],
   "source": [
    "# Import of the pyomo module\n",
    "from pyomo.environ import *\n",
    " \n",
    "# Creation of a Concrete Model\n",
    "model = ConcreteModel()"
   ]
  },
  {
   "cell_type": "markdown",
   "id": "0612ef92",
   "metadata": {},
   "source": [
    "**Set Definitions**\n",
    "\n",
    "Sets are created as attributes object of the main model objects and all the information is given as parameter in the constructor function. Specifically, we are passing to the constructor the initial elements of the set and a documentation string to keep track on what our set represents:"
   ]
  },
  {
   "cell_type": "code",
   "execution_count": 11,
   "id": "18661359",
   "metadata": {},
   "outputs": [],
   "source": [
    "## Define sets ##\n",
    "#  Sets\n",
    "#       i   canning plants   / seattle, san-diego /\n",
    "#       j   markets          / new-york, chicago, topeka / ;\n",
    "model.i = Set(initialize=['seattle','san-diego'], doc='Canning plans')\n",
    "model.j = Set(initialize=['new-york','chicago', 'topeka'], doc='Markets')"
   ]
  },
  {
   "cell_type": "markdown",
   "id": "8823d262",
   "metadata": {},
   "source": [
    "**Parameters**\n",
    "\n",
    "Parameter objects are created specifying the sets over which they are defined and are initialised with either a python dictionary or a scalar:\n"
   ]
  },
  {
   "cell_type": "code",
   "execution_count": 12,
   "id": "1a7da238",
   "metadata": {},
   "outputs": [],
   "source": [
    "## Define parameters ##\n",
    "#   Parameters\n",
    "#       a(i)  capacity of plant i in cases\n",
    "#         /    seattle     350\n",
    "#              san-diego   600  /\n",
    "#       b(j)  demand at market j in cases\n",
    "#         /    new-york    325\n",
    "#              chicago     300\n",
    "#              topeka      275  / ;\n",
    "model.a = Param(model.i, initialize={'seattle':350,'san-diego':600}, doc='Capacity of plant i in cases')\n",
    "model.b = Param(model.j, initialize={'new-york':325,'chicago':300,'topeka':275}, doc='Demand at market j in cases')\n",
    "#  Table d(i,j)  distance in thousands of miles\n",
    "#                    new-york       chicago      topeka\n",
    "#      seattle          2.5           1.7          1.8\n",
    "#      san-diego        2.5           1.8          1.4  ;\n",
    "dtab = {\n",
    "    ('seattle',  'new-york') : 2.5,\n",
    "    ('seattle',  'chicago')  : 1.7,\n",
    "    ('seattle',  'topeka')   : 1.8,\n",
    "    ('san-diego','new-york') : 2.5,\n",
    "    ('san-diego','chicago')  : 1.8,\n",
    "    ('san-diego','topeka')   : 1.4,\n",
    "    }\n",
    "model.d = Param(model.i, model.j, initialize=dtab, doc='Distance in thousands of miles')\n",
    "#  Scalar f  freight in dollars per case per thousand miles  /90/ ;\n",
    "model.f = Param(initialize=90, doc='Freight in dollars per case per thousand miles')"
   ]
  },
  {
   "cell_type": "markdown",
   "id": "ce35b10e",
   "metadata": {},
   "source": [
    "A third, powerful way to initialize a parameter is using a user-defined function.\n",
    "\n",
    "This function will be automatically called by pyomo with any possible (i,j) set. In this case pyomo will actually call `c_init()` six times in order to initialize the `model.c` parameter."
   ]
  },
  {
   "cell_type": "code",
   "execution_count": 13,
   "id": "c8e6d47f",
   "metadata": {},
   "outputs": [],
   "source": [
    "#  Parameter c(i,j)  transport cost in thousands of dollars per case ;\n",
    "#            c(i,j) = f * d(i,j) / 1000 ;\n",
    "def c_init(model, i, j):\n",
    "    return model.f * model.d[i,j] / 1000\n",
    "model.c = Param(model.i, model.j, initialize=c_init, doc='Transport cost in thousands of dollar per case')"
   ]
  },
  {
   "cell_type": "markdown",
   "id": "780b7dab",
   "metadata": {},
   "source": [
    "**Variables**\n",
    "\n",
    "Similar to parameters, variables are created specifying their domain(s). For variables we can also specify the upper/lower bounds in the constructor.\n",
    "\n",
    "Differently from GAMS, we don't need to define the variable that is on the left hand side of the objective function."
   ]
  },
  {
   "cell_type": "code",
   "execution_count": 14,
   "id": "67f6aa05",
   "metadata": {},
   "outputs": [],
   "source": [
    "## Define variables ##\n",
    "#  Variables\n",
    "#       x(i,j)  shipment quantities in cases\n",
    "#       z       total transportation costs in thousands of dollars ;\n",
    "#  Positive Variable x ;\n",
    "model.x = Var(model.i, model.j, bounds=(0.0,None), doc='Shipment quantities in case')"
   ]
  },
  {
   "cell_type": "markdown",
   "id": "2d486e28",
   "metadata": {},
   "source": [
    "**Constrains**\n",
    "\n",
    "At this point, it should not be a surprise that constrains are again defined as model objects with the required information passed as parameter in the constructor function."
   ]
  },
  {
   "cell_type": "code",
   "execution_count": 15,
   "id": "bd31ff7e",
   "metadata": {},
   "outputs": [],
   "source": [
    "## Define contrains ##\n",
    "# supply(i)   observe supply limit at plant i\n",
    "# supply(i) .. sum (j, x(i,j)) =l= a(i)\n",
    "def supply_rule(model, i):\n",
    "    return sum(model.x[i,j] for j in model.j) <= model.a[i]\n",
    "model.supply = Constraint(model.i, rule=supply_rule, doc='Observe supply limit at plant i')\n",
    "# demand(j)   satisfy demand at market j ;  \n",
    "# demand(j) .. sum(i, x(i,j)) =g= b(j);\n",
    "def demand_rule(model, j):\n",
    "    return sum(model.x[i,j] for i in model.i) >= model.b[j]  \n",
    "model.demand = Constraint(model.j, rule=demand_rule, doc='Satisfy demand at market j')"
   ]
  },
  {
   "cell_type": "markdown",
   "id": "da8d95a1",
   "metadata": {},
   "source": [
    "The above code take advantage of list comprehensions, a powerful feature of the python language that provides a concise way to loop over a list. If we take the supply_rule as example, this is actually called two times by pyomo (once for each of the elements of i). Without list comprehensions we would have had to write our function using a for loop, like:"
   ]
  },
  {
   "cell_type": "code",
   "execution_count": 16,
   "id": "638cce1f",
   "metadata": {},
   "outputs": [],
   "source": [
    "def supply_rule(model, i):\n",
    "    supply = 0.0\n",
    "    for j in model.j:\n",
    "        supply += model.x[i,j]\n",
    "    return supply <= model.a[i]"
   ]
  },
  {
   "cell_type": "markdown",
   "id": "18039898",
   "metadata": {},
   "source": [
    "Using list comprehension is however quicker to code and more readable.\n",
    "##### Objective and Solving #####\n",
    "The definition of the objective is similar to those of the constrains, except that most solvers require a scalar objective function, hence a unique function, and we can specify the sense (direction) of the optimisation."
   ]
  },
  {
   "cell_type": "code",
   "execution_count": 17,
   "id": "705e3985",
   "metadata": {},
   "outputs": [],
   "source": [
    "## Define Objective and solve ##\n",
    "#  cost        define objective function\n",
    "#  cost ..        z  =e=  sum((i,j), c(i,j)*x(i,j)) ;\n",
    "#  Model transport /all/ ;\n",
    "#  Solve transport using lp minimizing z ;\n",
    "def objective_rule(model):\n",
    "    return sum(model.c[i,j]*model.x[i,j] for i in model.i for j in model.j)\n",
    "model.objective = Objective(rule=objective_rule, sense=minimize, doc='Define objective function')"
   ]
  },
  {
   "cell_type": "markdown",
   "id": "e8e8400d",
   "metadata": {},
   "source": [
    "As we are here looping over two distinct sets, we can see how list comprehension really simplifies the code. The objective function could have being written without list comprehension as:"
   ]
  },
  {
   "cell_type": "code",
   "execution_count": 18,
   "id": "c3d679c7",
   "metadata": {},
   "outputs": [],
   "source": [
    "def objective_rule(model):\n",
    "    obj = 0.0  \n",
    "    for ki in model.i:\n",
    "        for kj in model.j:\n",
    "            obj += model.c[ki,kj]*model.x[ki,kj]\n",
    "    return obj"
   ]
  },
  {
   "cell_type": "markdown",
   "id": "a01ff5fe",
   "metadata": {},
   "source": [
    "**Retrieving the Output**\n",
    "\n",
    "We use the `pyomo_postprocess()` function to retrieve the output and do something with it. For example, we could display solution values (see below), plot a graph with matplotlib or save it in a csv file.\n",
    "\n",
    "This function is called by pyomo after the solver has finished."
   ]
  },
  {
   "cell_type": "code",
   "execution_count": 19,
   "id": "f14e8ade",
   "metadata": {},
   "outputs": [],
   "source": [
    "## Display of the output ##\n",
    "# Display x.l, x.m ;\n",
    "def pyomo_postprocess(options=None, instance=None, results=None):\n",
    "    model.x.display()"
   ]
  },
  {
   "cell_type": "markdown",
   "id": "e3b77baf",
   "metadata": {},
   "source": [
    "We can print model structure information with `model.pprint()` (“pprint” stand for “pretty print”). Results are also by default saved in a results.json file or, if PyYAML is installed in the system, in `results.yml`.\n",
    "\n",
    "**Editing and Running the Script**\n",
    "Differently from GAMS, you can use whatever editor environment you wish to code a pyomo script. If you don't need debugging features, a simple text editor like Notepad++ (in windows), gedit or kate (in Linux) will suffice. They already have syntax highlight for python.\n",
    "\n",
    "If you want advanced features and debugging capabilities you can use a dedicated Python IDE, like e.g. Spyder.\n",
    "\n",
    "You will normally run the script as `pyomo solve –solver=glpk transport.py`. You can output solver specific output adding the option `–stream-output`. If you want to run the script as `python transport.py` add the following lines at the end:"
   ]
  },
  {
   "cell_type": "code",
   "execution_count": 20,
   "id": "cbf6f893",
   "metadata": {},
   "outputs": [
    {
     "name": "stdout",
     "output_type": "stream",
     "text": [
      "# ==========================================================\n",
      "# = Solver Results                                         =\n",
      "# ==========================================================\n",
      "# ----------------------------------------------------------\n",
      "#   Problem Information\n",
      "# ----------------------------------------------------------\n",
      "Problem: \n",
      "- Name: unknown\n",
      "  Lower bound: 153.675\n",
      "  Upper bound: 153.675\n",
      "  Number of objectives: 1\n",
      "  Number of constraints: 6\n",
      "  Number of variables: 7\n",
      "  Number of nonzeros: 13\n",
      "  Sense: minimize\n",
      "# ----------------------------------------------------------\n",
      "#   Solver Information\n",
      "# ----------------------------------------------------------\n",
      "Solver: \n",
      "- Status: ok\n",
      "  Termination condition: optimal\n",
      "  Statistics: \n",
      "    Branch and bound: \n",
      "      Number of bounded subproblems: 0\n",
      "      Number of created subproblems: 0\n",
      "  Error rc: 0\n",
      "  Time: 0.13154911994934082\n",
      "# ----------------------------------------------------------\n",
      "#   Solution Information\n",
      "# ----------------------------------------------------------\n",
      "Solution: \n",
      "- number of solutions: 0\n",
      "  number of solutions displayed: 0\n",
      "\n",
      "Displaying Solution\n",
      "------------------------------------------------------------\n",
      "x : Shipment quantities in case\n",
      "    Size=6, Index=x_index\n",
      "    Key                       : Lower : Value : Upper : Fixed : Stale : Domain\n",
      "     ('san-diego', 'chicago') :   0.0 :   0.0 :  None : False : False :  Reals\n",
      "    ('san-diego', 'new-york') :   0.0 : 325.0 :  None : False : False :  Reals\n",
      "      ('san-diego', 'topeka') :   0.0 : 275.0 :  None : False : False :  Reals\n",
      "       ('seattle', 'chicago') :   0.0 : 300.0 :  None : False : False :  Reals\n",
      "      ('seattle', 'new-york') :   0.0 :   0.0 :  None : False : False :  Reals\n",
      "        ('seattle', 'topeka') :   0.0 :   0.0 :  None : False : False :  Reals\n"
     ]
    }
   ],
   "source": [
    "# This is an optional code path that allows the script to be run outside of\n",
    "# pyomo command-line.  For example:  python transport.py\n",
    "if __name__ == '__main__':\n",
    "    # This emulates what the pyomo command-line tools does\n",
    "    from pyomo.opt import SolverFactory\n",
    "    import pyomo.environ\n",
    "    opt = SolverFactory(\"glpk\")\n",
    "    results = opt.solve(model)\n",
    "    #sends results to stdout\n",
    "    results.write()\n",
    "    print(\"\\nDisplaying Solution\\n\" + '-'*60)\n",
    "    pyomo_postprocess(None, model, results)"
   ]
  },
  {
   "cell_type": "markdown",
   "id": "1f848a31",
   "metadata": {},
   "source": [
    "This solution shows that the minimum transport costs is attained when 300 cases are sent from the Seattle plant to the Chicago market, 50 cases from Seattle to New-York and 275 cases each are sent from San-Diego plant to New-York and Topeka markets.\n",
    "\n",
    "The total transport costs will be 153,675 as shown in the lower and upper bound.\n",
    "\n",
    "##### References\n",
    "- Original problem formulation: Dantzig, G B, Chapter 3.3. In Linear Programming and Extensions. Princeton University Press, Princeton, New Jersey, 1963.\n",
    "- GAMS implementation: Rosenthal, R E, Chapter 2: A GAMS Tutorial. In GAMS: A User's Guide. The Scientific Press, Redwood City, California, 1988.\n",
    "- Pyomo translation: Antonello Lobianco"
   ]
  },
  {
   "cell_type": "markdown",
   "id": "241c17cb",
   "metadata": {},
   "source": [
    "#### Min cost flow ####\n",
    "The example in *pandas_min_cost_flow* example is a model for solving min-cost-flow problems.\n",
    "\n",
    "The example does not use Pyomo params, but instead reads in all the model data from CSV files using pandas dataframes. This can be useful for creating models within more complex programs, that pre and post-process a model's input and output data. The code includes comments and the ipython notebook includes an example run using the provided sample input data files."
   ]
  },
  {
   "cell_type": "code",
   "execution_count": null,
   "id": "f4643b30",
   "metadata": {},
   "outputs": [],
   "source": [
    "import logging\n",
    "import pyomo\n",
    "import pandas\n",
    "import pyomo.opt\n",
    "import pyomo.environ as pe\n",
    "\n",
    "class MinCostFlow:\n",
    "    \"\"\"This class implements a standard min-cost-flow model.  \n",
    "    \n",
    "    It takes as input two csv files, providing data for the nodes and the arcs of the network.  The nodes file should have columns:\n",
    "    \n",
    "    Node, Imbalance\n",
    "\n",
    "    that specify the node name and the flow imbalance at the node.  The arcs file should have columns:\n",
    "\n",
    "    Start, End, Cost, UpperBound, LowerBound\n",
    "\n",
    "    that specify an arc start node, an arc end node, a cost for the arc, and upper and lower bounds for the flow.\"\"\"\n",
    "    def __init__(self, nodesfile, arcsfile):\n",
    "        \"\"\"Read in the csv data.\"\"\"\n",
    "        # Read in the nodes file\n",
    "        self.node_data = pandas.read_csv(nodesfile)\n",
    "        self.node_data.set_index(['Node'], inplace=True)\n",
    "        self.node_data.sort_index(inplace=True)\n",
    "        # Read in the arcs file\n",
    "        self.arc_data = pandas.read_csv(arcsfile)\n",
    "        self.arc_data.set_index(['Start','End'], inplace=True)\n",
    "        self.arc_data.sort_index(inplace=True)\n",
    "\n",
    "        self.node_set = self.node_data.index.unique()\n",
    "        self.arc_set = self.arc_data.index.unique()\n",
    "\n",
    "        self.createModel()\n",
    "\n",
    "    def createModel(self):\n",
    "        \"\"\"Create the pyomo model given the csv data.\"\"\"\n",
    "        self.m = pe.ConcreteModel()\n",
    "\n",
    "        # Create sets\n",
    "        self.m.node_set = pe.Set( initialize=self.node_set )\n",
    "        self.m.arc_set = pe.Set( initialize=self.arc_set , dimen=2)\n",
    "\n",
    "        # Create variables\n",
    "        self.m.Y = pe.Var(self.m.arc_set, domain=pe.NonNegativeReals)\n",
    "\n",
    "        # Create objective\n",
    "        def obj_rule(m):\n",
    "            return sum(m.Y[e] * self.arc_data.ix[e,'Cost'] for e in self.arc_set)\n",
    "        self.m.OBJ = pe.Objective(rule=obj_rule, sense=pe.minimize)\n",
    "        \n",
    "        # Flow Ballance rule\n",
    "        def flow_bal_rule(m, n):\n",
    "            arcs = self.arc_data.reset_index()\n",
    "            preds = arcs[ arcs.End == n ]['Start']\n",
    "            succs = arcs[ arcs.Start == n ]['End']\n",
    "            return sum(m.Y[(p,n)] for p in preds) - sum(m.Y[(n,s)] for s in succs) == self.node_data.ix[n,'Imbalance']\n",
    "        self.m.FlowBal = pe.Constraint(self.m.node_set, rule=flow_bal_rule)\n",
    "\n",
    "        # Upper bounds rule\n",
    "        def upper_bounds_rule(m, n1, n2):\n",
    "            e = (n1,n2)\n",
    "            if self.arc_data.ix[e, 'UpperBound'] < 0:\n",
    "                return pe.Constraint.Skip\n",
    "            return m.Y[e] <= self.arc_data.ix[e, 'UpperBound']\n",
    "        self.m.UpperBound = pe.Constraint(self.m.arc_set, rule=upper_bounds_rule)\n",
    "        \n",
    "        # Lower bounds rule\n",
    "        def lower_bounds_rule(m, n1, n2):\n",
    "            e = (n1,n2)\n",
    "            if self.arc_data.ix[e, 'LowerBound'] < 0:\n",
    "                return pe.Constraint.Skip\n",
    "            return m.Y[e] >= self.arc_data.ix[e, 'LowerBound']\n",
    "        self.m.LowerBound = pe.Constraint(self.m.arc_set, rule=lower_bounds_rule)\n",
    "\n",
    "    def solve(self):\n",
    "        \"\"\"Solve the model.\"\"\"\n",
    "        solver = pyomo.opt.SolverFactory('gurobi')\n",
    "        results = solver.solve(self.m, tee=True, keepfiles=False, options_string=\"mip_tolerances_integrality=1e-9 mip_tolerances_mipgap=0\")\n",
    "\n",
    "        if (results.solver.status != pyomo.opt.SolverStatus.ok):\n",
    "            logging.warning('Check solver not ok?')\n",
    "        if (results.solver.termination_condition != pyomo.opt.TerminationCondition.optimal):  \n",
    "            logging.warning('Check solver optimality?') \n",
    "\n",
    "if __name__ == '__main__':\n",
    "    sp = MinCostFlow('https://raw.githubusercontent.com/Pyomo/PyomoGallery/master/pandas_min_cost_flow/nodes.csv',\n",
    "                    'https://raw.githubusercontent.com/Pyomo/PyomoGallery/master/pandas_min_cost_flow/arcs.csv') \n",
    "    sp.solve()\n",
    "    print('\\n\\n---------------------------')\n",
    "    print('Cost: ', sp.m.OBJ())\n"
   ]
  },
  {
   "cell_type": "markdown",
   "id": "2cd408fc",
   "metadata": {},
   "source": [
    "#### Network Interdiction ####\n",
    "The [network_interdiction](https://github.com/Pyomo/PyomoGallery/tree/master/network_interdiction) examples directory contains several examples of network interdiction models. From least complicated to most complicated, they are:\n",
    "- Shortest path interdiction\n",
    "- Max flow interdiction\n",
    "- Min cost flow interdiction\n",
    "- Multi commodity flow interdiction\n",
    "\n",
    "Each of the examples is structured in a similar way. There is a main class that contains the Pyomo model. That class takes as input several CSV files, describing the network structure and its associated data, as well as the number of attacks for the interdiction model. Calling the solve `solve()` and `printSolution()` methods solves the model, and prints the solution in a human legible format.\n",
    "\n",
    "Each directory includes example input files and an `.ipynb` file that contains an example run of the network interdiction model.\n",
    "\n",
    "#### Shortest path interdiction\n"
   ]
  },
  {
   "cell_type": "code",
   "execution_count": 23,
   "id": "c24d964b",
   "metadata": {},
   "outputs": [
    {
     "name": "stderr",
     "output_type": "stream",
     "text": [
      "Traceback (most recent call last):\n",
      "  File \"sp_interdict.py\", line 211, in <module>\n",
      "    m.solve()\n",
      "  File \"sp_interdict.py\", line 141, in solve\n",
      "    self.Idual.BlockLimit.reconstruct()\n",
      "  File \"C:\\Users\\nuno\\Anaconda3\\lib\\site-packages\\pyomo\\core\\base\\component.py\", line 499, in reconstruct\n",
      "    raise AttributeError(self.reconstruct.__doc__)\n",
      "AttributeError: REMOVED: reconstruct() was removed in Pyomo 6.0.\n",
      "\n",
      "        Re-constructing model components was fragile and did not\n",
      "        correctly update instances of the component used in other\n",
      "        components or contexts (this was particularly problemmatic for\n",
      "        Var, Param, and Set).  Users who wish to reproduce the old\n",
      "        behavior of reconstruct(), are comfortable manipulating\n",
      "        non-public interfaces, and who take the time to verify that the\n",
      "        correct thing happens to their model can approximate the old\n",
      "        behavior of reconstruct with:\n",
      "\n",
      "            component.clear()\n",
      "            component._constructed = False\n",
      "            component.construct()\n",
      "\n",
      "        \n"
     ]
    }
   ],
   "source": [
    "!python sp_interdict.py"
   ]
  },
  {
   "cell_type": "markdown",
   "id": "77f34c54",
   "metadata": {},
   "source": [
    "#### Max flow interdiction"
   ]
  },
  {
   "cell_type": "code",
   "execution_count": 24,
   "id": "f49f4ee9",
   "metadata": {},
   "outputs": [
    {
     "name": "stderr",
     "output_type": "stream",
     "text": [
      "Traceback (most recent call last):\n",
      "  File \"max_flow_interdict.py\", line 200, in <module>\n",
      "    m.solve()\n",
      "  File \"max_flow_interdict.py\", line 141, in solve\n",
      "    self.Idual.BlockLimit.reconstruct()\n",
      "  File \"C:\\Users\\nuno\\Anaconda3\\lib\\site-packages\\pyomo\\core\\base\\component.py\", line 499, in reconstruct\n",
      "    raise AttributeError(self.reconstruct.__doc__)\n",
      "AttributeError: REMOVED: reconstruct() was removed in Pyomo 6.0.\n",
      "\n",
      "        Re-constructing model components was fragile and did not\n",
      "        correctly update instances of the component used in other\n",
      "        components or contexts (this was particularly problemmatic for\n",
      "        Var, Param, and Set).  Users who wish to reproduce the old\n",
      "        behavior of reconstruct(), are comfortable manipulating\n",
      "        non-public interfaces, and who take the time to verify that the\n",
      "        correct thing happens to their model can approximate the old\n",
      "        behavior of reconstruct with:\n",
      "\n",
      "            component.clear()\n",
      "            component._constructed = False\n",
      "            component.construct()\n",
      "\n",
      "        \n"
     ]
    }
   ],
   "source": [
    "!python max_flow_interdict.py"
   ]
  },
  {
   "cell_type": "markdown",
   "id": "afe10be0",
   "metadata": {},
   "source": [
    "#### Min cost flow interdiction"
   ]
  },
  {
   "cell_type": "markdown",
   "id": "05be09e2",
   "metadata": {},
   "source": [
    "#### Multi commodity flow interdiction"
   ]
  },
  {
   "cell_type": "code",
   "execution_count": 25,
   "id": "1599d22a",
   "metadata": {},
   "outputs": [
    {
     "name": "stderr",
     "output_type": "stream",
     "text": [
      "Traceback (most recent call last):\n",
      "  File \"multi_commodity_flow_interdict.py\", line 260, in <module>\n",
      "    m.solve()\n",
      "  File \"multi_commodity_flow_interdict.py\", line 187, in solve\n",
      "    self.Idual.BlockLimit.reconstruct()\n",
      "  File \"C:\\Users\\nuno\\Anaconda3\\lib\\site-packages\\pyomo\\core\\base\\component.py\", line 499, in reconstruct\n",
      "    raise AttributeError(self.reconstruct.__doc__)\n",
      "AttributeError: REMOVED: reconstruct() was removed in Pyomo 6.0.\n",
      "\n",
      "        Re-constructing model components was fragile and did not\n",
      "        correctly update instances of the component used in other\n",
      "        components or contexts (this was particularly problemmatic for\n",
      "        Var, Param, and Set).  Users who wish to reproduce the old\n",
      "        behavior of reconstruct(), are comfortable manipulating\n",
      "        non-public interfaces, and who take the time to verify that the\n",
      "        correct thing happens to their model can approximate the old\n",
      "        behavior of reconstruct with:\n",
      "\n",
      "            component.clear()\n",
      "            component._constructed = False\n",
      "            component.construct()\n",
      "\n",
      "        \n"
     ]
    }
   ],
   "source": [
    "!python multi_commodity_flow_interdict.py"
   ]
  },
  {
   "cell_type": "markdown",
   "id": "362afd9d",
   "metadata": {},
   "source": [
    "#### Row Generation and MST\n",
    "The example in [row_generation_mst](https://github.com/Pyomo/PyomoGallery/tree/master/row_generation_mst) applies row generation to solve the Minimum Spanning Tree (MST) problem. The example generates subtour elimination constraints until an MST is found.\n",
    "\n",
    "The directory also provides an sample input file and example runs following the MST example on Wikipedia.\n",
    "\n",
    "A minimum spanning tree (MST) or minimum weight spanning tree is a subset of the edges of a connected, edge-weighted undirected graph that connects all the vertices together, without any cycles and with the minimum possible total edge weight. That is, it is a spanning tree whose sum of edge weights is as small as possible. More generally, any edge-weighted undirected graph (not necessarily connected) has a minimum spanning forest, which is a union of the minimum spanning trees for its connected components.\n",
    "\n",
    "One example is a telecommunications company trying to lay cable in a new neighborhood. If it is constrained to bury the cable only along certain paths (e.g. roads), then there would be a graph containing the points (e.g. houses) connected by those paths. Some of the paths might be more expensive, because they are longer, or require the cable to be buried deeper; these paths would be represented by edges with larger weights. Currency is an acceptable unit for edge weight – there is no requirement for edge lengths to obey normal rules of geometry such as the triangle inequality.\n",
    "\n",
    "Minimum spanning trees can also be used to describe financial markets. A correlation matrix can be created by calculating a coefficient of correlation between any two stocks. This matrix can be represented topologically as a complex network and a minimum spanning tree can be constructed to visualize relationships.\n",
    "\n",
    "This graph represents the example ![example](https://upload.wikimedia.org/wikipedia/commons/c/c9/Multiple_minimum_spanning_trees.svg)"
   ]
  },
  {
   "cell_type": "code",
   "execution_count": 29,
   "id": "9ff87f9e",
   "metadata": {},
   "outputs": [
    {
     "name": "stdout",
     "output_type": "stream",
     "text": [
      "WARNING: Initializing ordered Set node_set with a fundamentally unordered data"
     ]
    },
    {
     "name": "stderr",
     "output_type": "stream",
     "text": [
      "Traceback (most recent call last):\n",
      "  File \"mst.py\", line 83, in <module>\n",
      "    mst.solve()\n",
      "  File \"mst.py\", line 69, in solve\n",
      "    results = solver.solve(self.m, tee=False, keepfiles=False, options_string=\"mip_tolerances_integrality=1e-9 mip_tolerances_mipgap=0\")\n",
      "  File \"C:\\Users\\nuno\\Anaconda3\\lib\\site-packages\\pyomo\\opt\\base\\solvers.py\", line 512, in solve\n",
      "    self.available(exception_flag=True)\n",
      "  File \"C:\\Users\\nuno\\Anaconda3\\lib\\site-packages\\pyomo\\opt\\solver\\ilmcmd.py\", line 36, in available\n",
      "    if not pyomo.opt.solver.shellcmd.SystemCallSolver.available(self, exception_flag):\n",
      "  File \"C:\\Users\\nuno\\Anaconda3\\lib\\site-packages\\pyomo\\opt\\solver\\shellcmd.py\", line 128, in available\n",
      "    raise ApplicationError(msg % self.name)\n",
      "pyomo.common.errors.ApplicationError: No executable found for solver 'gurobi'\n"
     ]
    },
    {
     "name": "stdout",
     "output_type": "stream",
     "text": [
      "\n",
      "    source (type: set).  This WILL potentially lead to nondeterministic\n",
      "    behavior in Pyomo\n",
      "WARNING: Could not locate the 'gurobi' executable, which is required for\n",
      "    solver gurobi\n"
     ]
    }
   ],
   "source": [
    "!python mst.py"
   ]
  },
  {
   "cell_type": "markdown",
   "id": "cd9912d8",
   "metadata": {},
   "source": [
    "### Problem 2\n",
    "Perform the same scheme of problem 1 to the following cases:\n",
    "- [Gasoline Blending](https://jckantor.github.io/ND-Pyomo-Cookbook/02.05-Gasoline-Blending.html)\n",
    "- [Transportation Networks](https://jckantor.github.io/ND-Pyomo-Cookbook/03.01-Transportation-Networks.html)\n",
    "- [Machine Bottleneck](https://jckantor.github.io/ND-Pyomo-Cookbook/04.02-Machine-Bottleneck.html)\n",
    "- [Soft Landing Apollo 11 on the moon](https://jckantor.github.io/ND-Pyomo-Cookbook/06.04-Soft-Landing-Apollo-11-on-the-Moon.html)"
   ]
  },
  {
   "cell_type": "markdown",
   "id": "be9661d6",
   "metadata": {},
   "source": [
    "#### Gasoline Blending\n",
    "##### Summary\n",
    "The task is to determine the most profitable blend of gasoline from given set of refinery streams.\n",
    "\n",
    "![CEP-refinery-diagram](https://github.com/jckantor/ND-Pyomo-Cookbook/blob/master/notebooks/figures/CEP-refinery-diagram.png?raw=1)\n",
    "\n",
    "Source: Olsen, T. (2014, May). An Oil Refinery Walk-Through. _Chemical Engineering Progress, 34-40._ [pdf available here.](https://www.aiche.org/system/files/cep/20140534_1.pdf)\n",
    "\n",
    "The gasoline products include regular and premium gasoline. In addition to the current price, the specifications include:\n",
    "\n",
    "- **octane** the minimum road octane number. Road octane is the computed as the average of the Research Octane Number (RON) and Motor Octane Number (MON).\n",
    "- **Reid Vapor Pressure** Upper and lower limits are specified for the Reid vapor pressure. The Reid vapor pressure is the absolute pressure exerted by the liquid at 100°F.\n",
    "- **benzene** the maximum volume percentage of benzene allowed in the final product. Benzene helps to increase octane rating, but is also a treacherous environmental contaminant.\n",
    "\n"
   ]
  },
  {
   "cell_type": "code",
   "execution_count": 31,
   "id": "f5f11c6f",
   "metadata": {},
   "outputs": [
    {
     "name": "stdout",
     "output_type": "stream",
     "text": [
      "         price  octane  RVPmin  RVPmax  benzene\n",
      "Regular   2.75    87.0     0.0    15.0      1.1\n",
      "Premium   2.85    91.0     0.0    15.0      1.1\n"
     ]
    }
   ],
   "source": [
    "import pandas as pd\n",
    "import shutil\n",
    "import sys\n",
    "import os.path\n",
    "import pyomo.environ as pyomo\n",
    "\n",
    "products = {\n",
    "    'Regular' : {'price': 2.75, 'octane': 87, 'RVPmin': 0.0, 'RVPmax': 15.0, 'benzene': 1.1},\n",
    "    'Premium' : {'price': 2.85, 'octane': 91, 'RVPmin': 0.0, 'RVPmax': 15.0, 'benzene': 1.1},\n",
    "}\n",
    "\n",
    "print(pd.DataFrame.from_dict(products).T)\n"
   ]
  },
  {
   "cell_type": "markdown",
   "id": "2716a573",
   "metadata": {},
   "source": [
    "##### Problem statement\n",
    "\n",
    "A typical refinery produces many intermediate streams that can be incorporated in a blended gasoline product. Here we provide data on seven streams that include:\n",
    "\n",
    "* **Butane** n-butane is a C4 product stream produced from the light components of the crude being processed by the refinery. Butane is a highly volatile of gasoline.\n",
    "* **LSR** Light straight run naptha is a 90°F to 190°F cut from the crude distillation column primarily consisting of straight chain C5-C6 hydrocarbons.\n",
    "* **Isomerate** is the result of isomerizing LSR to produce branched molecules that results in higher octane number.\n",
    "* **Reformate** is result of catalytic reforming heavy straight run napthenes to produce a high octane blending component, as well by-product hydrogen used elsewhere in the refinery for hydro-treating.\n",
    "* **Reformate LB** is a is a low benzene variant of reformate.\n",
    "* **FCC Naphta** is the product of a fluidized catalytic cracking unit designed to produce gasoline blending components from long chain hydrocarbons present in the crude oil being processed by the refinery.\n",
    "* **Alkylate** The alkylation unit reacts iso-butane with low-molecular weight alkenes to produce a high octane blending component for gasoline.\n",
    "\n",
    "The stream specifications include research octane and motor octane numbers for each blending component, the Reid vapor pressure, the benzene content, cost, and availability (in gallons per day). The road octane number is computed as the average of the RON and MON."
   ]
  },
  {
   "cell_type": "code",
   "execution_count": 32,
   "id": "26cd1bf2",
   "metadata": {},
   "outputs": [
    {
     "name": "stdout",
     "output_type": "stream",
     "text": [
      "                RON   MON   RVP  benzene  cost    avail  octane\n",
      "Butane         93.0  92.0  54.0     0.00  0.85  30000.0   92.50\n",
      "LSR            78.0  76.0  11.2     0.73  2.05  35000.0   77.00\n",
      "Isomerate      83.0  81.1  13.5     0.00  2.20      0.0   82.05\n",
      "Reformate     100.0  88.2   3.2     1.85  2.80  60000.0   94.10\n",
      "Reformate LB   93.7  84.0   2.8     0.12  2.75      0.0   88.85\n",
      "FCC Naphtha    92.1  77.1   1.4     1.06  2.60  70000.0   84.60\n",
      "Alkylate       97.3  95.9   4.6     0.00  2.75  40000.0   96.60\n"
     ]
    }
   ],
   "source": [
    "streams = {\n",
    "    'Butane'       : {'RON': 93.0, 'MON': 92.0, 'RVP': 54.0, 'benzene': 0.00, 'cost': 0.85, 'avail': 30000},\n",
    "    'LSR'          : {'RON': 78.0, 'MON': 76.0, 'RVP': 11.2, 'benzene': 0.73, 'cost': 2.05, 'avail': 35000},\n",
    "    'Isomerate'    : {'RON': 83.0, 'MON': 81.1, 'RVP': 13.5, 'benzene': 0.00, 'cost': 2.20, 'avail': 0},\n",
    "    'Reformate'    : {'RON':100.0, 'MON': 88.2, 'RVP':  3.2, 'benzene': 1.85, 'cost': 2.80, 'avail': 60000},\n",
    "    'Reformate LB' : {'RON': 93.7, 'MON': 84.0, 'RVP':  2.8, 'benzene': 0.12, 'cost': 2.75, 'avail': 0},\n",
    "    'FCC Naphtha'  : {'RON': 92.1, 'MON': 77.1, 'RVP':  1.4, 'benzene': 1.06, 'cost': 2.60, 'avail': 70000},\n",
    "    'Alkylate'     : {'RON': 97.3, 'MON': 95.9, 'RVP':  4.6, 'benzene': 0.00, 'cost': 2.75, 'avail': 40000},\n",
    "}\n",
    "\n",
    "# calculate road octane as (R+M)/2\n",
    "for s in streams.keys():\n",
    "    streams[s]['octane'] = (streams[s]['RON'] + streams[s]['MON'])/2\n",
    "    \n",
    "# display feed information\n",
    "print(pd.DataFrame.from_dict(streams).T)\n"
   ]
  },
  {
   "cell_type": "markdown",
   "id": "a51697a3",
   "metadata": {},
   "source": [
    "##### Blending model set\n",
    "This simplified blending model assumes the product attributes can be computed as linear volume weighted averages of the component properties. Let the decision variable $x_{s,p} \\geq 0$ be the volume, in gallons, of blending component $s \\in S$ used in the final product $p \\in P$.\n",
    "\n",
    "##### Blending model objective\n",
    "The objective is maximize profit, which is the difference between product revenue and stream costs.\n",
    "$$ profit = \\max_{x_{s,p}}\\left( \\sum_{p\\in P} Price_p \\sum_{s\\in S} x_{s,p} - \\sum_{s\\in S} Cost_s \\sum_{p\\in P} x_{s,p}\\right) $$\n",
    "or <br>\n",
    "$$ profit= \\max_{x_{s,p}}\\left( \\sum_{p\\in P}  \\sum_{s\\in S} x_{s,p}Price_p - \\sum_{p\\in P}  \\sum_{s\\in S} x_{s,p}Cost_s \\right) $$\n",
    "\n",
    "##### Blending model constraints\n",
    "The blending constraint for octane can be written as <br>\n",
    "$$ \\frac{\\sum_{s \\in S} x_{s,p} Octane_s}{\\sum_{s \\in S} x_{s,p}} \\geq Octane_p \\forall p \\in P $$\n",
    "\n",
    "where $Octane_s$ refers to the octane rating of stream $s$, whereas $Octane_p$ refers to the octane rating of product $p$. Multiplying through by the denominator, and consolidating terms gives\n",
    "\n",
    "$$\\sum_{s \\in S} x_{s,p}\\left(Octane_s - Octane_p\\right) \\geq  0 \\forall p \\in P$$\n",
    "\n",
    "The same assumptions and development apply to the benzene constraint\n",
    "$$\\sum_{s \\in S} x_{s,p}\\left(Benzene_s - Benzene_p\\right)  \\leq  0  \\forall p \\in P$$\n",
    "\n",
    "Reid vapor pressure, however, follows a somewhat different mixing rule.  For the Reid vapor pressure we have<br>\n",
    "$$\\sum_{s \\in S} x_{s,p}\\left(RVP_s^{1.25} - RVP_{min,p}^{1.25}\\right) \\geq  0 \\forall p \\in P $$\n",
    "$$\\sum_{s \\in S} x_{s,p}\\left(RVP_s^{1.25} - RVP_{max,p}^{1.25}\\right) \\leq  0 \\forall p \\in P$$\n",
    "\n",
    "##### Pyomo implementation\n",
    "This model is implemented in the following cell"
   ]
  },
  {
   "cell_type": "code",
   "execution_count": 33,
   "id": "23448cca",
   "metadata": {},
   "outputs": [
    {
     "name": "stdout",
     "output_type": "stream",
     "text": [
      "WARNING: Could not locate the 'cbc' executable, which is required for solver\n",
      "    cbc\n"
     ]
    },
    {
     "ename": "ApplicationError",
     "evalue": "No executable found for solver 'cbc'",
     "output_type": "error",
     "traceback": [
      "\u001b[1;31m---------------------------------------------------------------------------\u001b[0m",
      "\u001b[1;31mApplicationError\u001b[0m                          Traceback (most recent call last)",
      "\u001b[1;32m~\\AppData\\Local\\Temp/ipykernel_23936/1676725310.py\u001b[0m in \u001b[0;36m<module>\u001b[1;34m\u001b[0m\n\u001b[0;32m     24\u001b[0m \u001b[1;31m# solve\u001b[0m\u001b[1;33m\u001b[0m\u001b[1;33m\u001b[0m\u001b[1;33m\u001b[0m\u001b[0m\n\u001b[0;32m     25\u001b[0m \u001b[0msolver\u001b[0m \u001b[1;33m=\u001b[0m \u001b[0mpyomo\u001b[0m\u001b[1;33m.\u001b[0m\u001b[0mSolverFactory\u001b[0m\u001b[1;33m(\u001b[0m\u001b[1;34m'cbc'\u001b[0m\u001b[1;33m)\u001b[0m\u001b[1;33m\u001b[0m\u001b[1;33m\u001b[0m\u001b[0m\n\u001b[1;32m---> 26\u001b[1;33m \u001b[0msolver\u001b[0m\u001b[1;33m.\u001b[0m\u001b[0msolve\u001b[0m\u001b[1;33m(\u001b[0m\u001b[0mm\u001b[0m\u001b[1;33m)\u001b[0m\u001b[1;33m\u001b[0m\u001b[1;33m\u001b[0m\u001b[0m\n\u001b[0m\u001b[0;32m     27\u001b[0m \u001b[1;33m\u001b[0m\u001b[0m\n\u001b[0;32m     28\u001b[0m \u001b[1;31m# display results\u001b[0m\u001b[1;33m\u001b[0m\u001b[1;33m\u001b[0m\u001b[1;33m\u001b[0m\u001b[0m\n",
      "\u001b[1;32m~\\Anaconda3\\lib\\site-packages\\pyomo\\opt\\base\\solvers.py\u001b[0m in \u001b[0;36msolve\u001b[1;34m(self, *args, **kwds)\u001b[0m\n\u001b[0;32m    510\u001b[0m         \u001b[1;34m\"\"\" Solve the problem \"\"\"\u001b[0m\u001b[1;33m\u001b[0m\u001b[1;33m\u001b[0m\u001b[0m\n\u001b[0;32m    511\u001b[0m \u001b[1;33m\u001b[0m\u001b[0m\n\u001b[1;32m--> 512\u001b[1;33m         \u001b[0mself\u001b[0m\u001b[1;33m.\u001b[0m\u001b[0mavailable\u001b[0m\u001b[1;33m(\u001b[0m\u001b[0mexception_flag\u001b[0m\u001b[1;33m=\u001b[0m\u001b[1;32mTrue\u001b[0m\u001b[1;33m)\u001b[0m\u001b[1;33m\u001b[0m\u001b[1;33m\u001b[0m\u001b[0m\n\u001b[0m\u001b[0;32m    513\u001b[0m         \u001b[1;31m#\u001b[0m\u001b[1;33m\u001b[0m\u001b[1;33m\u001b[0m\u001b[1;33m\u001b[0m\u001b[0m\n\u001b[0;32m    514\u001b[0m         \u001b[1;31m# If the inputs are models, then validate that they have been\u001b[0m\u001b[1;33m\u001b[0m\u001b[1;33m\u001b[0m\u001b[1;33m\u001b[0m\u001b[0m\n",
      "\u001b[1;32m~\\Anaconda3\\lib\\site-packages\\pyomo\\opt\\solver\\shellcmd.py\u001b[0m in \u001b[0;36mavailable\u001b[1;34m(self, exception_flag)\u001b[0m\n\u001b[0;32m    126\u001b[0m             \u001b[1;32mif\u001b[0m \u001b[0mexception_flag\u001b[0m\u001b[1;33m:\u001b[0m\u001b[1;33m\u001b[0m\u001b[1;33m\u001b[0m\u001b[0m\n\u001b[0;32m    127\u001b[0m                 \u001b[0mmsg\u001b[0m \u001b[1;33m=\u001b[0m \u001b[1;34m\"No executable found for solver '%s'\"\u001b[0m\u001b[1;33m\u001b[0m\u001b[1;33m\u001b[0m\u001b[0m\n\u001b[1;32m--> 128\u001b[1;33m                 \u001b[1;32mraise\u001b[0m \u001b[0mApplicationError\u001b[0m\u001b[1;33m(\u001b[0m\u001b[0mmsg\u001b[0m \u001b[1;33m%\u001b[0m \u001b[0mself\u001b[0m\u001b[1;33m.\u001b[0m\u001b[0mname\u001b[0m\u001b[1;33m)\u001b[0m\u001b[1;33m\u001b[0m\u001b[1;33m\u001b[0m\u001b[0m\n\u001b[0m\u001b[0;32m    129\u001b[0m             \u001b[1;32mreturn\u001b[0m \u001b[1;32mFalse\u001b[0m\u001b[1;33m\u001b[0m\u001b[1;33m\u001b[0m\u001b[0m\n\u001b[0;32m    130\u001b[0m         \u001b[1;32mreturn\u001b[0m \u001b[1;32mTrue\u001b[0m\u001b[1;33m\u001b[0m\u001b[1;33m\u001b[0m\u001b[0m\n",
      "\u001b[1;31mApplicationError\u001b[0m: No executable found for solver 'cbc'"
     ]
    }
   ],
   "source": [
    "# create model\n",
    "m = pyomo.ConcreteModel()\n",
    "\n",
    "# create decision variables\n",
    "S = streams.keys()\n",
    "P = products.keys()\n",
    "m.x = pyomo.Var(S,P, domain=pyomo.NonNegativeReals)\n",
    "    \n",
    "# objective\n",
    "revenue = sum(sum(m.x[s,p]*products[p]['price'] for s in S) for p in P)\n",
    "cost = sum(sum(m.x[s,p]*streams[s]['cost'] for s in S) for p in P)\n",
    "m.profit = pyomo.Objective(expr = revenue - cost, sense=pyomo.maximize)\n",
    "\n",
    "# constraints\n",
    "m.cons = pyomo.ConstraintList()\n",
    "for s in S:\n",
    "    m.cons.add(sum(m.x[s,p] for p in P) <= streams[s]['avail'])\n",
    "for p in P:\n",
    "    m.cons.add(sum(m.x[s,p]*(streams[s]['octane'] -    products[p]['octane'])       for s in S) >= 0)\n",
    "    m.cons.add(sum(m.x[s,p]*(streams[s]['RVP']**1.25 - products[p]['RVPmin']**1.25) for s in S) >= 0)\n",
    "    m.cons.add(sum(m.x[s,p]*(streams[s]['RVP']**1.25 - products[p]['RVPmax']**1.25) for s in S) <= 0)\n",
    "    m.cons.add(sum(m.x[s,p]*(streams[s]['benzene'] -   products[p]['benzene'])      for s in S) <= 0)\n",
    "\n",
    "# solve\n",
    "solver = pyomo.SolverFactory('cbc')\n",
    "solver.solve(m)\n",
    "\n",
    "# display results\n",
    "vol = sum(m.x[s,p]() for s in S for p in P)\n",
    "print(\"Total Volume =\", round(vol, 1), \"gallons.\")\n",
    "print(\"Total Profit =\", round(m.profit(), 1), \"dollars.\")\n",
    "print(\"Profit =\", round(100*m.profit()/vol,1), \"cents per gallon.\")"
   ]
  },
  {
   "cell_type": "markdown",
   "id": "3411900f",
   "metadata": {},
   "source": [
    "##### Displaying the solution"
   ]
  },
  {
   "cell_type": "code",
   "execution_count": 34,
   "id": "243e11c4",
   "metadata": {},
   "outputs": [
    {
     "ename": "TypeError",
     "evalue": "type NoneType doesn't define __round__ method",
     "output_type": "error",
     "traceback": [
      "\u001b[1;31m---------------------------------------------------------------------------\u001b[0m",
      "\u001b[1;31mTypeError\u001b[0m                                 Traceback (most recent call last)",
      "\u001b[1;32m~\\AppData\\Local\\Temp/ipykernel_23936/4034585682.py\u001b[0m in \u001b[0;36m<module>\u001b[1;34m\u001b[0m\n\u001b[0;32m      2\u001b[0m \u001b[1;32mfor\u001b[0m \u001b[0ms\u001b[0m \u001b[1;32min\u001b[0m \u001b[0mS\u001b[0m\u001b[1;33m:\u001b[0m\u001b[1;33m\u001b[0m\u001b[1;33m\u001b[0m\u001b[0m\n\u001b[0;32m      3\u001b[0m     \u001b[1;32mfor\u001b[0m \u001b[0mp\u001b[0m \u001b[1;32min\u001b[0m \u001b[0mP\u001b[0m\u001b[1;33m:\u001b[0m\u001b[1;33m\u001b[0m\u001b[1;33m\u001b[0m\u001b[0m\n\u001b[1;32m----> 4\u001b[1;33m         \u001b[0mstream_results\u001b[0m\u001b[1;33m.\u001b[0m\u001b[0mloc\u001b[0m\u001b[1;33m[\u001b[0m\u001b[0ms\u001b[0m\u001b[1;33m,\u001b[0m\u001b[0mp\u001b[0m\u001b[1;33m]\u001b[0m \u001b[1;33m=\u001b[0m \u001b[0mround\u001b[0m\u001b[1;33m(\u001b[0m\u001b[0mm\u001b[0m\u001b[1;33m.\u001b[0m\u001b[0mx\u001b[0m\u001b[1;33m[\u001b[0m\u001b[0ms\u001b[0m\u001b[1;33m,\u001b[0m\u001b[0mp\u001b[0m\u001b[1;33m]\u001b[0m\u001b[1;33m(\u001b[0m\u001b[1;33m)\u001b[0m\u001b[1;33m,\u001b[0m \u001b[1;36m1\u001b[0m\u001b[1;33m)\u001b[0m\u001b[1;33m\u001b[0m\u001b[1;33m\u001b[0m\u001b[0m\n\u001b[0m\u001b[0;32m      5\u001b[0m     \u001b[0mstream_results\u001b[0m\u001b[1;33m.\u001b[0m\u001b[0mloc\u001b[0m\u001b[1;33m[\u001b[0m\u001b[0ms\u001b[0m\u001b[1;33m,\u001b[0m\u001b[1;34m'Total'\u001b[0m\u001b[1;33m]\u001b[0m \u001b[1;33m=\u001b[0m \u001b[0mround\u001b[0m\u001b[1;33m(\u001b[0m\u001b[0msum\u001b[0m\u001b[1;33m(\u001b[0m\u001b[0mm\u001b[0m\u001b[1;33m.\u001b[0m\u001b[0mx\u001b[0m\u001b[1;33m[\u001b[0m\u001b[0ms\u001b[0m\u001b[1;33m,\u001b[0m\u001b[0mp\u001b[0m\u001b[1;33m]\u001b[0m\u001b[1;33m(\u001b[0m\u001b[1;33m)\u001b[0m \u001b[1;32mfor\u001b[0m \u001b[0mp\u001b[0m \u001b[1;32min\u001b[0m \u001b[0mP\u001b[0m\u001b[1;33m)\u001b[0m\u001b[1;33m,\u001b[0m \u001b[1;36m1\u001b[0m\u001b[1;33m)\u001b[0m\u001b[1;33m\u001b[0m\u001b[1;33m\u001b[0m\u001b[0m\n\u001b[0;32m      6\u001b[0m     \u001b[0mstream_results\u001b[0m\u001b[1;33m.\u001b[0m\u001b[0mloc\u001b[0m\u001b[1;33m[\u001b[0m\u001b[0ms\u001b[0m\u001b[1;33m,\u001b[0m\u001b[1;34m'Available'\u001b[0m\u001b[1;33m]\u001b[0m \u001b[1;33m=\u001b[0m \u001b[0mstreams\u001b[0m\u001b[1;33m[\u001b[0m\u001b[0ms\u001b[0m\u001b[1;33m]\u001b[0m\u001b[1;33m[\u001b[0m\u001b[1;34m'avail'\u001b[0m\u001b[1;33m]\u001b[0m\u001b[1;33m\u001b[0m\u001b[1;33m\u001b[0m\u001b[0m\n",
      "\u001b[1;31mTypeError\u001b[0m: type NoneType doesn't define __round__ method"
     ]
    },
    {
     "name": "stdout",
     "output_type": "stream",
     "text": [
      "Collecting package metadata (current_repodata.json): ...working... done\n",
      "Solving environment: ...working... failed with initial frozen solve. Retrying with flexible solve.\n",
      "Solving environment: ...working... failed with repodata from current_repodata.json, will retry with next repodata source.\n",
      "Collecting package metadata (repodata.json): ...working... done\n",
      "Solving environment: ...working... failed with initial frozen solve. Retrying with flexible solve.\n",
      "Solving environment: ...working... \n",
      "Found conflicts! Looking for incompatible packages.\n",
      "This can take several minutes.  Press CTRL-C to abort.\n",
      "failed\n"
     ]
    },
    {
     "name": "stderr",
     "output_type": "stream",
     "text": [
      "\n",
      "The environment is inconsistent, please check the package plan carefully\n",
      "The following packages are causing the inconsistency:\n",
      "\n",
      "  - defaults/win-64::conda-build==3.21.4=py38haa95532_0\n",
      "\n",
      "Building graph of deps:   0%|          | 0/5 [00:00<?, ?it/s]\n",
      "Examining coincbc:   0%|          | 0/5 [00:00<?, ?it/s]     \n",
      "Examining python=3.8:  20%|##        | 1/5 [00:00<?, ?it/s]\n",
      "Examining @/win-64::__cuda==11.0=0:  40%|####      | 2/5 [00:01<00:02,  1.27it/s]\n",
      "Examining @/win-64::__cuda==11.0=0:  60%|######    | 3/5 [00:01<00:01,  1.90it/s]\n",
      "Examining @/win-64::__archspec==1=x86_64:  60%|######    | 3/5 [00:01<00:01,  1.90it/s]\n",
      "Examining @/win-64::__win==0=0:  80%|########  | 4/5 [00:01<00:00,  1.90it/s]          \n",
      "                                                                             \n",
      "\n",
      "Determining conflicts:   0%|          | 0/5 [00:00<?, ?it/s]\n",
      "                                                            \n",
      "\n",
      "UnsatisfiableError: \n",
      "\n"
     ]
    }
   ],
   "source": [
    "stream_results = pd.DataFrame()\n",
    "for s in S:\n",
    "    for p in P:\n",
    "        stream_results.loc[s,p] = round(m.x[s,p](), 1)\n",
    "    stream_results.loc[s,'Total'] = round(sum(m.x[s,p]() for p in P), 1)\n",
    "    stream_results.loc[s,'Available'] = streams[s]['avail']\n",
    "    \n",
    "stream_results['Unused (Slack)'] = stream_results['Available'] - stream_results['Total']\n",
    "print(stream_results)"
   ]
  },
  {
   "cell_type": "markdown",
   "id": "246ef985",
   "metadata": {},
   "source": [
    "##### by refinary product"
   ]
  },
  {
   "cell_type": "code",
   "execution_count": null,
   "id": "80f466e3",
   "metadata": {},
   "outputs": [],
   "source": [
    "product_results = pd.DataFrame()\n",
    "for p in P:\n",
    "    product_results.loc[p,'Volume'] = round(sum(m.x[s,p]() for s in S), 1)\n",
    "    product_results.loc[p,'octane'] = round(sum(m.x[s,p]()*streams[s]['octane'] for s in S)\n",
    "                                            /product_results.loc[p,'Volume'], 1)\n",
    "    product_results.loc[p,'RVP'] = round((sum(m.x[s,p]()*streams[s]['RVP']**1.25 for s in S)\n",
    "                                            /product_results.loc[p,'Volume'])**0.8, 1)\n",
    "    product_results.loc[p,'benzene'] = round(sum(m.x[s,p]()*streams[s]['benzene'] for s in S)\n",
    "                                            /product_results.loc[p,'Volume'], 1)\n",
    "print(product_results)"
   ]
  },
  {
   "cell_type": "markdown",
   "id": "cebf8027",
   "metadata": {},
   "source": [
    "#### Transportation Networks\n",
    "Keywords: transportation, assignment, cbc usage\n",
    "\n",
    "This notebook demonstrates the solution of transportation network problems using Pyomo and GLPK. The problem description and data are adapted from Chapter 5 of Johannes Bisschop, [\"AIMMS Optimization Modeling\", AIMMS B. V., 2014](http://download.aimms.com/aimms/download/manuals/AIMMS3_OM.pdf).\n",
    "\n",
    "##### Summary\n",
    "The prototypical transportation problem deals with the distribution of a commodity from a set of sources to a set of destinations. The object is to minimize total transportation costs while satisfying constraints on the supplies available at each of the sources, and satisfying demand requirements at each of the destinations.\n",
    "\n",
    "Here we illustrate the transportation problem using an example from Chapter 5 of Johannes Bisschop, \"AIMMS Optimization Modeling\", Paragon Decision Sciences, 1999. In this example there are two factories and six customer sites located in 8 European cities as shown in the following map. The customer sites are labeled in red, the factories are labeled in blue.\n",
    "\n",
    "![TransportationNetworksMap.png](https://github.com/jckantor/ND-Pyomo-Cookbook/blob/master/notebooks/figures/TransportationNetworksMap.png?raw=1)\n",
    "\n",
    "Transportation costs between sources and destinations are given in units of &euro;/ton of goods shipped, and list in the following table along with source capacity and demand requirements.\n",
    "\n",
    "##### Problem Statement\n",
    "**Table of transportation costs, customer demand, and available supplies**\n",
    "\n",
    "| Customer\\Source | Arnhem [&euro;/ton] | Gouda [&euro;/ton] | Demand [tons]|\n",
    "| :--: | :----: | :---: | :----: |\n",
    "| London | n/a | 2.5 | 125 |\n",
    "| Berlin | 2.5 | n/a | 175 |\n",
    "| Maastricht | 1.6 | 2.0 | 225 |\n",
    "| Amsterdam | 1.4 | 1.0 | 250 |\n",
    "| Utrecht | 0.8 | 1.0 | 225 |\n",
    "| The Hague | 1.4 | 0.8 | 200 |\n",
    "| **Supply [tons]** | 550 tons | 700 tons |  |\n",
    "\n",
    "The situation can be modeled by links connecting a set nodes representing sources to a set of nodes representing customers.\n",
    "\n",
    "![TransportNet.png](https://github.com/jckantor/ND-Pyomo-Cookbook/blob/master/notebooks/figures/TransportNet.png?raw=1)\n",
    "\n",
    "For each link we can have a parameter $T[c,s]$ denoting the cost of shipping a ton of goods over the link. What we need to determine is the amount of goods to be shipped over each link, which we will represent as a non-negative decision variable $x[c,s]$.\n",
    "\n",
    "The problem objective is to minimize the total shipping cost to all customers from all sources. \n",
    "\n",
    "$$\\mbox{minimize:}\\quad \\mbox{Cost} = \\sum_{c \\in Customers}\\sum_{s \\in Sources} T[c,s] x[c,s]$$\n",
    "\n",
    "Shipments from all sources can not exceed the manufacturing capacity of the source.\n",
    "\n",
    "$$\\sum_{c \\in Customers} x[c,s] \\leq \\mbox{Supply}[s] \\qquad \\forall s \\in Sources$$\n",
    "\n",
    "Shipments to each customer must satisfy their demand.\n",
    "\n",
    "$$\\sum_{s\\in Sources} x[c,s] = \\mbox{Demand}[c] \\qquad \\forall c \\in Customers$$\n",
    "\n",
    "##### Pyomo model"
   ]
  },
  {
   "cell_type": "code",
   "execution_count": null,
   "id": "ff739fb5",
   "metadata": {},
   "outputs": [],
   "source": [
    "import shutil\n",
    "import sys\n",
    "import os.path\n",
    "from pyomo.environ import *"
   ]
  },
  {
   "cell_type": "markdown",
   "id": "86d65e65",
   "metadata": {},
   "source": [
    "**Data File**"
   ]
  },
  {
   "cell_type": "code",
   "execution_count": null,
   "id": "d675ef6f",
   "metadata": {},
   "outputs": [],
   "source": [
    "Demand = {\n",
    "   'Lon':   125,        # London\n",
    "   'Ber':   175,        # Berlin\n",
    "   'Maa':   225,        # Maastricht\n",
    "   'Ams':   250,        # Amsterdam\n",
    "   'Utr':   225,        # Utrecht\n",
    "   'Hag':   200         # The Hague\n",
    "}\n",
    "\n",
    "Supply = {\n",
    "   'Arn':   600,        # Arnhem\n",
    "   'Gou':   650         # Gouda\n",
    "}\n",
    "\n",
    "T = {\n",
    "    ('Lon','Arn'): 1000,\n",
    "    ('Lon','Gou'): 2.5,\n",
    "    ('Ber','Arn'): 2.5,\n",
    "    ('Ber','Gou'): 1000,\n",
    "    ('Maa','Arn'): 1.6,\n",
    "    ('Maa','Gou'): 2.0,\n",
    "    ('Ams','Arn'): 1.4,\n",
    "    ('Ams','Gou'): 1.0,\n",
    "    ('Utr','Arn'): 0.8,\n",
    "    ('Utr','Gou'): 1.0,\n",
    "    ('Hag','Arn'): 1.4,\n",
    "    ('Hag','Gou'): 0.8\n",
    "}"
   ]
  },
  {
   "cell_type": "markdown",
   "id": "962f9b75",
   "metadata": {},
   "source": [
    "**Model File**"
   ]
  },
  {
   "cell_type": "code",
   "execution_count": null,
   "id": "7a461877",
   "metadata": {},
   "outputs": [],
   "source": [
    "# Step 0: Create an instance of the model\n",
    "model = ConcreteModel()\n",
    "model.dual = Suffix(direction=Suffix.IMPORT)\n",
    "\n",
    "# Step 1: Define index sets\n",
    "CUS = list(Demand.keys())\n",
    "SRC = list(Supply.keys())\n",
    "\n",
    "# Step 2: Define the decision \n",
    "model.x = Var(CUS, SRC, domain = NonNegativeReals)\n",
    "\n",
    "# Step 3: Define Objective\n",
    "model.Cost = Objective(\n",
    "    expr = sum([T[c,s]*model.x[c,s] for c in CUS for s in SRC]),\n",
    "    sense = minimize)\n",
    "\n",
    "# Step 4: Constraints\n",
    "model.src = ConstraintList()\n",
    "for s in SRC:\n",
    "    model.src.add(sum([model.x[c,s] for c in CUS]) <= Supply[s])\n",
    "        \n",
    "model.dmd = ConstraintList()\n",
    "for c in CUS:\n",
    "    model.dmd.add(sum([model.x[c,s] for s in SRC]) == Demand[c])\n",
    "    \n",
    "results = SolverFactory('cbc').solve(model)\n",
    "results.write()"
   ]
  },
  {
   "cell_type": "markdown",
   "id": "32373c17",
   "metadata": {},
   "source": [
    "##### Solution"
   ]
  },
  {
   "cell_type": "code",
   "execution_count": null,
   "id": "cea480da",
   "metadata": {},
   "outputs": [],
   "source": [
    "for c in CUS:\n",
    "    for s in SRC:\n",
    "        print(c, s, model.x[c,s]())"
   ]
  },
  {
   "cell_type": "code",
   "execution_count": null,
   "id": "686b64f2",
   "metadata": {},
   "outputs": [],
   "source": [
    "if 'ok' == str(results.Solver.status):\n",
    "    print(\"Total Shipping Costs = \",model.Cost())\n",
    "    print(\"\\nShipping Table:\")\n",
    "    for s in SRC:\n",
    "        for c in CUS:\n",
    "            if model.x[c,s]() > 0:\n",
    "                print(\"Ship from \", s,\" to \", c, \":\", model.x[c,s]())\n",
    "else:\n",
    "    print(\"No Valid Solution Found\")"
   ]
  },
  {
   "cell_type": "markdown",
   "id": "a0fd6cf8",
   "metadata": {},
   "source": [
    "The solution has the interesting property that, with the exception of Utrecht, customers are served by just one source.\n",
    "\n",
    "![TransportNet_soln.png](https://github.com/jckantor/ND-Pyomo-Cookbook/blob/master/notebooks/figures/TransportNet_soln.png?raw=1)\n",
    "\n",
    "##### Sensitivity analysis\n",
    "**Analysis by source**\n"
   ]
  },
  {
   "cell_type": "code",
   "execution_count": null,
   "id": "897cf58e",
   "metadata": {},
   "outputs": [],
   "source": [
    "if 'ok' == str(results.Solver.status):\n",
    "    print(\"\\nSources:\")\n",
    "    print(\"Source      Capacity   Shipped    Margin\")\n",
    "    for m in model.src.keys():\n",
    "        s = SRC[m-1]\n",
    "        print(\"{0:10s}{1:10.1f}{2:10.1f}{3:10.4f}\".format(s,Supply[s],model.src[m](),model.dual[model.src[m]]))\n",
    "else:\n",
    "    print(\"No Valid Solution Found\")"
   ]
  },
  {
   "cell_type": "markdown",
   "id": "26f5d911",
   "metadata": {},
   "source": [
    "The 'marginal' values are telling us how much the total costs will be increased for each one ton increase in the available supply from each source. The optimization calculation says that only 650 tons of the 700 available from Gouda should used for a minimum cost solution, which rules out any further cost reductions by increasing the available supply. In fact, we could decrease the supply Gouda without any harm. The marginal value of Gouda is 0.\n",
    "\n",
    "The source at Arnhem is a different matter. First, all 550 available tons are being used. Second, from the marginal value we see that the total transportations costs would be reduced by 0.2 Euros for each additional ton of supply.  \n",
    "\n",
    "The management conclusion we can draw is that there is excess supply available at Gouda which should, if feasible, me moved to Arnhem.\n",
    "\n",
    "Now that's a valuable piece of information!\n",
    "**Analysis by customer**"
   ]
  },
  {
   "cell_type": "code",
   "execution_count": null,
   "id": "4e89a363",
   "metadata": {},
   "outputs": [],
   "source": [
    "if 'ok' == str(results.Solver.status):    \n",
    "    print(\"\\nCustomers:\")\n",
    "    print(\"Customer      Demand   Shipped    Margin\")\n",
    "    for n in model.dmd.keys():\n",
    "        c = CUS[n-1]\n",
    "        print(\"{0:10s}{1:10.1f}{2:10.1f}{3:10.4f}\".format(c,Demand[c],model.dmd[n](),model.dual[model.dmd[n]]))\n",
    "else:\n",
    "    print(\"No Valid Solution Found\")"
   ]
  },
  {
   "cell_type": "markdown",
   "id": "2c6dade8",
   "metadata": {},
   "source": [
    "Looking at the demand constraints, we see that all of the required demands have been met by the optimal solution.\n",
    "\n",
    "The marginal values of these constraints indicate how much the total transportation costs will increase if there is an additional ton of demand at any of the locations. In particular, note that increasing the demand at Berlin will increase costs by 2.7 Euros per ton. This is actually **greater** than the list price for shipping to Berlin which is 2.5 Euros per ton.  Why is this?\n",
    "\n",
    "To see what's going on, let's resolve the problem with a one ton increase in the demand at Berlin.\n",
    "\n",
    "We see the total cost has increased from 1715.0 to 1717.7 Euros, an increase of 2.7 Euros just as predicted by the marginal value assocated with the demand constraint for Berlin.\n",
    "\n",
    "Now let's look at the solution.\n",
    "\n",
    "Here we see that increasing the demand in Berlin resulted in a number of other changes. This figure shows the changes shipments.\n",
    "\n",
    "![TransportNet_sens.png](https://github.com/jckantor/ND-Pyomo-Cookbook/blob/master/notebooks/figures/TransportNet_sens.png?raw=1)\n",
    "\n",
    "* Shipments to Berlin increased from 175 to 176 tons, increasing costs for that link from 437.5 to 440.0, or a net increase of 2.5 Euros.\n",
    "* Since Arnhem is operating at full capacity, increasing the shipments from Arnhem to Berlin resulted in decreasing the shipments from Arhhem to Utrecht from 150 to 149 reducing those shipping costs from 120.0 to 119.2, a net decrease of 0.8 Euros.\n",
    "* To meet demand at Utrecht, shipments from Gouda to Utrecht had to increase from 75 to 76, increasing shipping costs by a net amount of 1.0 Euros.\n",
    "* The net effect on shipping costs is 2.5 - 0.8 + 1.0 = 2.7 Euros.\n",
    "\n",
    "The important conclusion to draw is that when operating under optimal conditions, a change in demand or supply can have a ripple effect on the optimal solution that can only be measured through a proper sensitivity analysis."
   ]
  },
  {
   "cell_type": "markdown",
   "id": "ce1813cf",
   "metadata": {},
   "source": [
    "#### Machine Bottleneck\n",
    "##### Summary\n",
    "This notebook demonstrates the formulation and solution of the a machine bottleneck problem using Pyomo. The task is to schedule a set of jobs on a single machine given the release time, duration, and due time for each job. Date for the example problem is from Christelle Gueret, Christian Prins, Marc Sevaux, \"Applications of Optimization with Xpress-MP,\" Chapter 5, Dash Optimization, 2000.<br>\n",
    "\n",
    "**Imports**"
   ]
  },
  {
   "cell_type": "code",
   "execution_count": null,
   "id": "9382be24",
   "metadata": {},
   "outputs": [],
   "source": [
    "%matplotlib inline\n",
    "import matplotlib.pyplot as plt\n",
    "from IPython.display import display\n",
    "import pandas as pd\n",
    "\n",
    "import shutil\n",
    "import sys\n",
    "import os.path\n",
    "\n",
    "if not shutil.which(\"pyomo\"):\n",
    "    !pip install -q pyomo\n",
    "    assert(shutil.which(\"pyomo\"))\n",
    "\n",
    "if not (shutil.which(\"cbc\") or os.path.isfile(\"cbc\")):\n",
    "    if \"google.colab\" in sys.modules:\n",
    "        !apt-get install -y -qq coinor-cbc\n",
    "    else:\n",
    "        try:\n",
    "            !conda install -c conda-forge coincbc \n",
    "        except:\n",
    "            pass\n",
    "\n",
    "assert(shutil.which(\"cbc\") or os.path.isfile(\"cbc\"))\n",
    "\n",
    "from pyomo.environ import *\n",
    "from pyomo.gdp import *"
   ]
  },
  {
   "cell_type": "markdown",
   "id": "331e1736",
   "metadata": {},
   "source": [
    "##### Problem statement\n",
    "The problem is to schedule a sequence of jobs for a single machine. The data consists of a Python dictionary of jobs. Each job is labeled by a key, and an associated data dictionary provides the time at which the job is released to the for machine processing, the expected duration of the job, and the due date. The problem is to sequence the jobs on the machine to meet the due dates, or show that no such sequence is possible."
   ]
  },
  {
   "cell_type": "code",
   "execution_count": 1,
   "id": "86ca25b7",
   "metadata": {},
   "outputs": [
    {
     "data": {
      "text/plain": [
       "{'A': {'release': 2, 'duration': 5, 'due': 10},\n",
       " 'B': {'release': 5, 'duration': 6, 'due': 21},\n",
       " 'C': {'release': 4, 'duration': 8, 'due': 15},\n",
       " 'D': {'release': 0, 'duration': 4, 'due': 10},\n",
       " 'E': {'release': 0, 'duration': 2, 'due': 5},\n",
       " 'F': {'release': 8, 'duration': 3, 'due': 15},\n",
       " 'G': {'release': 9, 'duration': 2, 'due': 22}}"
      ]
     },
     "execution_count": 1,
     "metadata": {},
     "output_type": "execute_result"
    }
   ],
   "source": [
    "JOBS = {\n",
    "    'A': {'release': 2, 'duration': 5, 'due': 10},\n",
    "    'B': {'release': 5, 'duration': 6, 'due': 21},\n",
    "    'C': {'release': 4, 'duration': 8, 'due': 15},\n",
    "    'D': {'release': 0, 'duration': 4, 'due': 10},\n",
    "    'E': {'release': 0, 'duration': 2, 'due':  5},\n",
    "    'F': {'release': 8, 'duration': 3, 'due': 15},\n",
    "    'G': {'release': 9, 'duration': 2, 'due': 22},\n",
    "}\n",
    "JOBS"
   ]
  },
  {
   "cell_type": "markdown",
   "id": "2f163fb3",
   "metadata": {},
   "source": [
    "A traditional means of visualizing scheduling data in the form of a Gantt chart. The next cell presents a function `gantt` that plots a Gantt chart given JOBS and SCHEDULE information. Two charts are presented showing job schedule and machine schedule. If no machine information is contained in SCHEDULE, then it assumed to be a single machine operation."
   ]
  },
  {
   "cell_type": "code",
   "execution_count": null,
   "id": "1693eff2",
   "metadata": {},
   "outputs": [],
   "source": [
    "def gantt(JOBS, SCHEDULE={}):\n",
    "    bw = 0.3\n",
    "    plt.figure(figsize=(12, 0.7*(len(JOBS.keys()))))\n",
    "    idx = 0\n",
    "    for j in sorted(JOBS.keys()):\n",
    "        x = JOBS[j]['release']\n",
    "        y = JOBS[j]['due']\n",
    "        plt.fill_between([x,y],[idx-bw,idx-bw],[idx+bw,idx+bw], color='cyan', alpha=0.6)\n",
    "        if j in SCHEDULE.keys():\n",
    "            x = SCHEDULE[j]['start']\n",
    "            y = SCHEDULE[j]['finish']\n",
    "            plt.fill_between([x,y],[idx-bw,idx-bw],[idx+bw,idx+bw], color='red', alpha=0.5)\n",
    "            plt.plot([x,y,y,x,x], [idx-bw,idx-bw,idx+bw,idx+bw,idx-bw],color='k')\n",
    "            plt.text((SCHEDULE[j]['start'] + SCHEDULE[j]['finish'])/2.0,idx,\n",
    "                'Job ' + j, color='white', weight='bold',\n",
    "                horizontalalignment='center', verticalalignment='center')\n",
    "        idx += 1\n",
    "\n",
    "    plt.ylim(-0.5, idx-0.5)\n",
    "    plt.title('Job Schedule')\n",
    "    plt.xlabel('Time')\n",
    "    plt.ylabel('Jobs')\n",
    "    plt.yticks(range(len(JOBS)), JOBS.keys())\n",
    "    plt.grid()\n",
    "    xlim = plt.xlim()\n",
    "    \n",
    "    if SCHEDULE:\n",
    "        for j in SCHEDULE.keys():\n",
    "            if 'machine' not in SCHEDULE[j].keys():\n",
    "                SCHEDULE[j]['machine'] = 1\n",
    "        MACHINES = sorted(set([SCHEDULE[j]['machine'] for j in SCHEDULE.keys()]))\n",
    "\n",
    "        plt.figure(figsize=(12, 0.7*len(MACHINES)))\n",
    "        for j in sorted(SCHEDULE.keys()):\n",
    "            idx = MACHINES.index(SCHEDULE[j]['machine'])\n",
    "            x = SCHEDULE[j]['start']\n",
    "            y = SCHEDULE[j]['finish']\n",
    "            plt.fill_between([x,y],[idx-bw,idx-bw],[idx+bw,idx+bw], color='red', alpha=0.5)\n",
    "            plt.plot([x,y,y,x,x], [idx-bw,idx-bw,idx+bw,idx+bw,idx-bw],color='k')\n",
    "            plt.text((SCHEDULE[j]['start'] + SCHEDULE[j]['finish'])/2.0,idx,\n",
    "                'Job ' + j, color='white', weight='bold',\n",
    "                horizontalalignment='center', verticalalignment='center')\n",
    "        plt.xlim(xlim)\n",
    "        plt.ylim(-0.5, len(MACHINES)-0.5)\n",
    "        plt.title('Machine Schedule')\n",
    "        plt.yticks(range(len(MACHINES)), MACHINES)\n",
    "        plt.ylabel('Machines')\n",
    "        plt.grid()\n",
    "\n",
    "gantt(JOBS)"
   ]
  },
  {
   "cell_type": "markdown",
   "id": "88df7bea",
   "metadata": {},
   "source": [
    "A schedule consists of a dictionary listing the start and finish times for each job. Once the order of jobs has been determined, the start time can be no earlier than when the job is released for processing, and no earlier than the finish of the previous job.\n",
    "\n",
    "The following cell presents a function which, given the JOBS data and an order list of jobs indices, computes the start and finish times for all jobs on a single machine. We use this to determine the schedule if the jobs are executed in alphabetical order."
   ]
  },
  {
   "cell_type": "code",
   "execution_count": null,
   "id": "6adef852",
   "metadata": {},
   "outputs": [],
   "source": [
    "def schedule(JOBS, order=sorted(JOBS.keys())):\n",
    "    \"\"\"Schedule a dictionary of JOBS on a single machine in a specified order.\"\"\"\n",
    "    start = 0\n",
    "    finish = 0\n",
    "    SCHEDULE = {}\n",
    "    for job in order:\n",
    "        start = max(JOBS[job]['release'], finish)\n",
    "        finish = start + JOBS[job]['duration']\n",
    "        SCHEDULE[job] = {'start': start, 'finish': finish}\n",
    "    return SCHEDULE   \n",
    "\n",
    "SCHEDULE = schedule(JOBS)\n",
    "SCHEDULE"
   ]
  },
  {
   "cell_type": "markdown",
   "id": "a5ee3080",
   "metadata": {},
   "source": [
    "Here we demonstrate a 'partial schedule'."
   ]
  },
  {
   "cell_type": "code",
   "execution_count": null,
   "id": "594f15cb",
   "metadata": {},
   "outputs": [],
   "source": [
    "gantt(JOBS, schedule(JOBS, ['E', 'D', 'A', 'C', 'B']))"
   ]
  },
  {
   "cell_type": "markdown",
   "id": "8cd3e96f",
   "metadata": {},
   "source": [
    "Here's a schedule where jobs are done in alphabetical order."
   ]
  },
  {
   "cell_type": "code",
   "execution_count": null,
   "id": "971b77c1",
   "metadata": {},
   "outputs": [],
   "source": [
    "gantt(JOBS, SCHEDULE)"
   ]
  },
  {
   "cell_type": "markdown",
   "id": "de3d9cbc",
   "metadata": {},
   "source": [
    "**Key performance indicators**<br>\n",
    "As presented above, a given schedule may not meet all of the due time requirements. In fact, a schedule meeting all of the requirements might not even be possible. So given a schedule, it is useful to have a function that computes key performance indicators."
   ]
  },
  {
   "cell_type": "code",
   "execution_count": null,
   "id": "fc57f742",
   "metadata": {},
   "outputs": [],
   "source": [
    "def kpi(JOBS, SCHEDULE):\n",
    "    KPI = {}\n",
    "    KPI['Makespan'] = max(SCHEDULE[job]['finish'] for job in SCHEDULE)\n",
    "    KPI['Max Pastdue'] = max(max(0, SCHEDULE[job]['finish'] - JOBS[job]['due']) for job in SCHEDULE)\n",
    "    KPI['Sum of Pastdue'] = sum(max(0, SCHEDULE[job]['finish'] - JOBS[job]['due']) for job in SCHEDULE)\n",
    "    KPI['Number Pastdue'] = sum(SCHEDULE[job]['finish'] > JOBS[job]['due'] for job in SCHEDULE)\n",
    "    KPI['Number on Time'] = sum(SCHEDULE[job]['finish'] <= JOBS[job]['due'] for job in SCHEDULE)\n",
    "    KPI['Fraction on Time'] = KPI['Number on Time']/len(SCHEDULE)\n",
    "    return KPI\n",
    "\n",
    "kpi(JOBS, SCHEDULE)"
   ]
  },
  {
   "cell_type": "markdown",
   "id": "3215c6bb",
   "metadata": {},
   "source": [
    "Show the Gantt chart and key performance metrics if the jobs are executed in reverse alphabetical order."
   ]
  },
  {
   "cell_type": "code",
   "execution_count": null,
   "id": "b675ed8e",
   "metadata": {},
   "outputs": [],
   "source": [
    "order = sorted(JOBS, reverse=True)\n",
    "gantt(JOBS, schedule(JOBS,order))\n",
    "kpi(JOBS, schedule(JOBS,order))"
   ]
  },
  {
   "cell_type": "markdown",
   "id": "12cb4324",
   "metadata": {},
   "source": [
    "**Empirical scheduling**\n",
    "\n",
    "There are a number of commonly encountered empirical rules for scheduling jobs on a single machine. These include:\n",
    "\n",
    "* First-In First-Out (FIFO)\n",
    "* Last-In, First-Out (LIFO)\n",
    "* Shortest Processing Time First (SPT)\n",
    "* Earliest Due Data (EDD)\n",
    "\n",
    "**First-in First-out**<br>\n",
    "As an example, we'll first look at 'First-In-First-Out' scheduling which executes job in the order they are released. The following function sorts jobs by release time, then schedules the jobs to execute in that order. A job can only be started no earlier than when it is released."
   ]
  },
  {
   "cell_type": "code",
   "execution_count": null,
   "id": "0125459a",
   "metadata": {},
   "outputs": [],
   "source": [
    "def fifo(JOBS):\n",
    "    order_by_release = sorted(JOBS, key=lambda job: JOBS[job]['release'])\n",
    "    return schedule(JOBS, order_by_release)\n",
    "\n",
    "SCHEDULE = fifo(JOBS)\n",
    "gantt(JOBS, SCHEDULE)\n",
    "kpi(JOBS, SCHEDULE)"
   ]
  },
  {
   "cell_type": "markdown",
   "id": "19c9e466",
   "metadata": {},
   "source": [
    "**Last-in, first-out**"
   ]
  },
  {
   "cell_type": "code",
   "execution_count": null,
   "id": "d29ef815",
   "metadata": {},
   "outputs": [],
   "source": [
    "def lifo(JOBS):\n",
    "    unfinished_jobs = set(JOBS.keys())\n",
    "    start = 0\n",
    "    while len(unfinished_jobs) > 0:\n",
    "        start = max(start, min(JOBS[job]['release'] for job in unfinished_jobs))\n",
    "        lifo = {job:JOBS[job]['release'] for job in unfinished_jobs if JOBS[job]['release'] <= start}\n",
    "        job = max(lifo, key=lifo.get)\n",
    "        finish = start + JOBS[job]['duration']\n",
    "        unfinished_jobs.remove(job)\n",
    "        SCHEDULE[job] = {'machine': 1, 'start': start, 'finish': finish}\n",
    "        start = finish\n",
    "    return SCHEDULE          \n",
    "    \n",
    "gantt(JOBS, lifo(JOBS))\n",
    "kpi(JOBS, lifo(JOBS))"
   ]
  },
  {
   "cell_type": "markdown",
   "id": "c5b260d7",
   "metadata": {},
   "source": [
    "**Earliest due date**"
   ]
  },
  {
   "cell_type": "code",
   "execution_count": null,
   "id": "ae5dc16c",
   "metadata": {},
   "outputs": [],
   "source": [
    "def edd(JOBS):\n",
    "    unfinished_jobs = set(JOBS.keys())\n",
    "    start = 0\n",
    "    while len(unfinished_jobs) > 0:\n",
    "        start = max(start, min(JOBS[job]['release'] for job in unfinished_jobs))\n",
    "        edd = {job:JOBS[job]['due'] for job in unfinished_jobs if JOBS[job]['release'] <= start}\n",
    "        job = min(edd, key=edd.get)\n",
    "        finish = start + JOBS[job]['duration']\n",
    "        unfinished_jobs.remove(job)\n",
    "        SCHEDULE[job] = {'machine': 1, 'start': start, 'finish': finish}\n",
    "        start = finish\n",
    "    return SCHEDULE          \n",
    "    \n",
    "gantt(JOBS, edd(JOBS))\n",
    "kpi(JOBS, edd(JOBS))"
   ]
  },
  {
   "cell_type": "markdown",
   "id": "674bb4e4",
   "metadata": {},
   "source": [
    "**Shortest processing time**"
   ]
  },
  {
   "cell_type": "code",
   "execution_count": null,
   "id": "f2830b13",
   "metadata": {},
   "outputs": [],
   "source": [
    "def spt(JOBS):\n",
    "    unfinished_jobs = set(JOBS.keys())\n",
    "    start = 0\n",
    "    while len(unfinished_jobs) > 0:\n",
    "        start = max(start, min(JOBS[job]['release'] for job in unfinished_jobs))\n",
    "        spt = {job:JOBS[job]['duration'] for job in unfinished_jobs if JOBS[job]['release'] <= start}\n",
    "        job = min(spt, key=spt.get)\n",
    "        finish = start + JOBS[job]['duration']\n",
    "        unfinished_jobs.remove(job)\n",
    "        SCHEDULE[job] = {'machine': 1, 'start': start, 'finish': finish}\n",
    "        start = finish\n",
    "    return SCHEDULE          \n",
    "    \n",
    "gantt(JOBS, spt(JOBS))\n",
    "kpi(JOBS, spt(JOBS))"
   ]
  },
  {
   "cell_type": "markdown",
   "id": "90e1586d",
   "metadata": {},
   "source": [
    "##### Modeling\n",
    "**Data**<br>\n",
    "The data for this problem consists of a list of jobs. Each job is tagged with a unique ID along with numerical data giving the time at which the job will be released for machine processing, the expected duration, and the time at which it is due.\n",
    "\n",
    "| Symbol | Description \n",
    "| ------ | :---------- \n",
    "| $\\text{ID}_{j}$       | Unique ID for task $j$ \n",
    "| $\\text{due}_{j}$      | Due time for task $j$ \n",
    "| $\\text{duration}_{j}$ | Duration of task $j$ \n",
    "| $\\text{release}_{j}$  | Time task $j$ becomes available for processing "
   ]
  },
  {
   "cell_type": "markdown",
   "id": "069b8056",
   "metadata": {},
   "source": [
    "**Decision variables**<br>\n",
    "\n",
    "For a single machine, the essential decision variable is the start time at which the job begins processing.\n",
    "\n",
    "| Symbol | Description |\n",
    "| ------ | :---------- |\n",
    "| $\\text{start}_{j}$ | Start of task $j$\n",
    "| $\\text{makespan}$ | Time to complete *all* jobs.\n",
    "| $\\text{pastdue}_{j}$ | Time by which task $j$ is past due\n",
    "| $\\text{early}_{j}$ | Time by which task $j$ is finished early\n",
    "\n",
    "A job cannot start until it is released for processing\n",
    "\\begin{align*}\n",
    "\\text{start}_{j} & \\geq \\text{release}_{j}\\\\\n",
    "\\end{align*}\n",
    "\n",
    "Once released for processing, we assume the processing continues until the job is finished. The finish time is compared to the due time, and the result stored in either the early or pastdue decision variables. These decision variables are needed to handle cases where it might not be possible to complete all jobs by the time they are due.\n",
    "\n",
    "\\begin{align*}\n",
    "\\text{start}_{j} + \\text{duration}_{j} + \\text{early}_{j} & = \\text{due}_{j} + \\text{pastdue}_{j}\\\\\n",
    "\\text{early}_{j} & \\geq 0 \\\\\n",
    "\\text{pastdue}_{j} & \\geq 0\n",
    "\\end{align*}\n",
    "\n",
    "Finally, we include a single decision variable measuring the overall makespan for all jobs.\n",
    "\\begin{align*}\n",
    "\\text{start}_{j} +\\text{duration}_{j} \\leq \\text{makespan}\n",
    "\\end{align*}\n",
    "\n",
    "The final set of constraints requires that, for any given pair of jobs $j$ and $k$, that either $j$ starts before $k$ finishes, or $k$ finishes before $j$ starts. The boolean variable $y_{jk} = 1$ indicates $j$ finishes before $k$ starts, and is 0 for the opposing case. Note that we only need to consider cases $j > k$\n",
    "\n",
    "\\begin{align*}\n",
    "\\text{start}_{i}+\\text{duration}_{i} & \\leq \\text{start}_{j}+My_{i,j}\\\\\n",
    "\\text{start}_{j}+\\text{duration}_{j} & \\leq \\text{start}_{i}+M(1-y_{i,j})\n",
    "\\end{align*}\n",
    "\n",
    "where $M$ is a sufficiently large enough to assure the relaxed constraint is satisfied for all plausible values of the decision variables."
   ]
  },
  {
   "cell_type": "markdown",
   "id": "34a5919f",
   "metadata": {},
   "source": [
    "**Big-M model**\n",
    "\n",
    "We'll take a step-by-step approach to the construction of a \"Big-M\" model.\n",
    "\n",
    "**Step 1. An incomplete bare-bones model**\n",
    "We'll start this model building exercise with just enough variables and constraints to get an answer. This is not a complete model and will therefore give non-physical answers. But it does give a scaffold for further model building.\n",
    "\n",
    "This first model includes decision variables for the start and finish of each job, a decision variable for makespan, and constraints that define the relationships among these decision variables. The objective function is to minimize makespan."
   ]
  },
  {
   "cell_type": "code",
   "execution_count": null,
   "id": "f847a918",
   "metadata": {},
   "outputs": [],
   "source": [
    "def opt_schedule(JOBS):\n",
    "\n",
    "    # create model\n",
    "    m = ConcreteModel()\n",
    "    \n",
    "    # index set to simplify notation\n",
    "    m.JOBS = Set(initialize=JOBS.keys())\n",
    "\n",
    "    # decision variables\n",
    "    m.start = Var(m.JOBS, domain=NonNegativeReals)\n",
    "    m.finish = Var(m.JOBS, domain=NonNegativeReals)\n",
    "    \n",
    "    # additional decision variables for use in the objecive\n",
    "    m.makespan   = Var(domain=NonNegativeReals)\n",
    "    \n",
    "    # objective function\n",
    "    m.OBJ = Objective(expr = m.makespan, sense = minimize)\n",
    "    \n",
    "    # constraints\n",
    "    m.c = ConstraintList()\n",
    "    for j in m.JOBS:\n",
    "        m.c.add(m.finish[j] == m.start[j] + JOBS[j]['duration'])\n",
    "        m.c.add(m.finish[j] <= m.makespan)\n",
    "\n",
    "    SolverFactory('cbc').solve(m)\n",
    "    \n",
    "    SCHEDULE = {}\n",
    "    for j in m.JOBS:\n",
    "        SCHEDULE[j] = {'machine': 1, 'start': m.start[j](), 'finish': m.start[j]() + JOBS[j]['duration']}\n",
    "        \n",
    "    return SCHEDULE\n",
    "\n",
    "SCHEDULE = opt_schedule(JOBS)\n",
    "gantt(JOBS, SCHEDULE)\n",
    "kpi(JOBS, SCHEDULE)"
   ]
  },
  {
   "cell_type": "markdown",
   "id": "a0d7a180",
   "metadata": {},
   "source": [
    "**Step 2.  Add release time information**\n",
    "\n",
    "Obviously some jobs are being started before they are released for processing. The next version of the model adds that constraint."
   ]
  },
  {
   "cell_type": "code",
   "execution_count": null,
   "id": "8670328a",
   "metadata": {},
   "outputs": [],
   "source": [
    "def opt_schedule(JOBS):\n",
    "\n",
    "    # create model\n",
    "    m = ConcreteModel()\n",
    "    \n",
    "    # index set to simplify notation\n",
    "    m.JOBS = Set(initialize=JOBS.keys())\n",
    "\n",
    "    # decision variables\n",
    "    m.start = Var(m.JOBS, domain=NonNegativeReals)\n",
    "    m.finish = Var(m.JOBS, domain=NonNegativeReals)\n",
    "    \n",
    "    # additional decision variables for use in the objecive\n",
    "    m.makespan   = Var(domain=NonNegativeReals)\n",
    "    \n",
    "    # objective function\n",
    "    m.OBJ = Objective(expr = m.makespan, sense = minimize)\n",
    "    \n",
    "    # constraints\n",
    "    m.c = ConstraintList()\n",
    "    for j in m.JOBS:\n",
    "        m.c.add(m.finish[j] == m.start[j] + JOBS[j]['duration'])\n",
    "        m.c.add(m.finish[j] <= m.makespan)\n",
    "        m.c.add(m.start[j] >= JOBS[j]['release'])\n",
    "\n",
    "    SolverFactory('cbc').solve(m)\n",
    "    \n",
    "    SCHEDULE = {}\n",
    "    for j in m.JOBS:\n",
    "        SCHEDULE[j] = {'machine': 1, 'start': m.start[j](), 'finish': m.start[j]() + JOBS[j]['duration']}\n",
    "        \n",
    "    return SCHEDULE\n",
    "\n",
    "SCHEDULE = opt_schedule(JOBS)\n",
    "gantt(JOBS, SCHEDULE)\n",
    "kpi(JOBS, SCHEDULE)"
   ]
  },
  {
   "cell_type": "markdown",
   "id": "2c720a20",
   "metadata": {},
   "source": [
    "**Step 3. Machine conflict constraints**"
   ]
  },
  {
   "cell_type": "code",
   "execution_count": null,
   "id": "c64a23a8",
   "metadata": {},
   "outputs": [],
   "source": [
    "def opt_schedule(JOBS):\n",
    "\n",
    "    # create model\n",
    "    m = ConcreteModel()\n",
    "    \n",
    "    # index set to simplify notation\n",
    "    m.JOBS = Set(initialize=JOBS.keys())\n",
    "    m.PAIRS = Set(initialize = m.JOBS * m.JOBS, dimen=2, filter=lambda m, j, k : j < k)\n",
    "\n",
    "    # decision variables\n",
    "    m.start = Var(m.JOBS, domain=NonNegativeReals)\n",
    "    m.finish = Var(m.JOBS, domain=NonNegativeReals)\n",
    "    m.y = Var(m.PAIRS, domain=Boolean)\n",
    "    \n",
    "    # additional decision variables for use in the objecive\n",
    "    m.makespan   = Var(domain=NonNegativeReals)\n",
    "    \n",
    "    # objective function\n",
    "    m.OBJ = Objective(expr = m.makespan, sense = minimize)\n",
    "    \n",
    "    # constraints\n",
    "    m.c = ConstraintList()\n",
    "    for j in m.JOBS:\n",
    "        m.c.add(m.finish[j] == m.start[j] + JOBS[j]['duration'])\n",
    "        m.c.add(m.finish[j] <= m.makespan)\n",
    "        m.c.add(m.start[j] >= JOBS[j]['release'])\n",
    "    \n",
    "    M = 100.0\n",
    "    for j,k in m.PAIRS:\n",
    "        m.c.add(m.finish[j] <= m.start[k] + M*m.y[j,k])\n",
    "        m.c.add(m.finish[k] <= m.start[j] + M*(1 - m.y[j,k]))\n",
    "\n",
    "    SolverFactory('cbc').solve(m)\n",
    "    \n",
    "    SCHEDULE = {}\n",
    "    for j in m.JOBS:\n",
    "        SCHEDULE[j] = {'machine': 1, 'start': m.start[j](), 'finish': m.start[j]() + JOBS[j]['duration']}\n",
    "        \n",
    "    return SCHEDULE\n",
    "\n",
    "SCHEDULE = opt_schedule(JOBS)\n",
    "gantt(JOBS, SCHEDULE)\n",
    "kpi(JOBS, SCHEDULE)"
   ]
  },
  {
   "cell_type": "markdown",
   "id": "7bf64bbe",
   "metadata": {},
   "source": [
    "**Step 4. Improve the objective function**"
   ]
  },
  {
   "cell_type": "code",
   "execution_count": null,
   "id": "937e4b14",
   "metadata": {},
   "outputs": [],
   "source": [
    "def opt_schedule(JOBS):\n",
    "\n",
    "    # create model\n",
    "    m = ConcreteModel()\n",
    "    \n",
    "    # index set to simplify notation\n",
    "    m.JOBS = Set(initialize=JOBS.keys())\n",
    "    m.PAIRS = Set(initialize = m.JOBS * m.JOBS, dimen=2, filter=lambda m, j, k : j < k)\n",
    "\n",
    "    # decision variables\n",
    "    m.start = Var(m.JOBS, domain=NonNegativeReals)\n",
    "    m.finish = Var(m.JOBS, domain=NonNegativeReals)\n",
    "    m.pastdue = Var(m.JOBS, domain=NonNegativeReals)\n",
    "    m.y = Var(m.PAIRS, domain=Boolean)\n",
    "    \n",
    "    # additional decision variables for use in the objecive\n",
    "    m.makespan   = Var(domain=NonNegativeReals)\n",
    "    \n",
    "    # objective function\n",
    "    m.OBJ = Objective(expr = sum(m.pastdue[j] for j in m.JOBS), sense = minimize)\n",
    "    \n",
    "    # constraints\n",
    "    m.c = ConstraintList()\n",
    "    for j in m.JOBS:\n",
    "        m.c.add(m.finish[j] == m.start[j] + JOBS[j]['duration'])\n",
    "        m.c.add(m.finish[j] <= m.makespan)\n",
    "        m.c.add(m.start[j] >= JOBS[j]['release'])\n",
    "        m.c.add(m.finish[j] <= JOBS[j]['due'] + m.pastdue[j])\n",
    "    \n",
    "    M = 100.0\n",
    "    for j,k in m.PAIRS:\n",
    "        m.c.add(m.finish[j] <= m.start[k] + M*m.y[j,k])\n",
    "        m.c.add(m.finish[k] <= m.start[j] + M*(1 - m.y[j,k]))\n",
    "\n",
    "    SolverFactory('cbc').solve(m)\n",
    "    \n",
    "    SCHEDULE = {}\n",
    "    for j in m.JOBS:\n",
    "        SCHEDULE[j] = {'machine': 1, 'start': m.start[j](), 'finish': m.start[j]() + JOBS[j]['duration']}\n",
    "        \n",
    "    return SCHEDULE\n",
    "\n",
    "SCHEDULE = opt_schedule(JOBS)\n",
    "gantt(JOBS, SCHEDULE)\n",
    "kpi(JOBS, SCHEDULE)"
   ]
  },
  {
   "cell_type": "markdown",
   "id": "35b32cea",
   "metadata": {},
   "source": [
    "##### Pyomo model"
   ]
  },
  {
   "cell_type": "code",
   "execution_count": null,
   "id": "7d6a6234",
   "metadata": {},
   "outputs": [],
   "source": [
    "def opt_schedule(JOBS):\n",
    "\n",
    "    # create model\n",
    "    m = ConcreteModel()\n",
    "    \n",
    "    # index set to simplify notation\n",
    "    m.J = Set(initialize=JOBS.keys())\n",
    "    m.PAIRS = Set(initialize = m.J * m.J, dimen=2, filter=lambda m, j, k : j < k)\n",
    "\n",
    "    # upper bounds on how long it would take to process all jobs\n",
    "    tmax = max([JOBS[j]['release'] for j in m.J]) + sum([JOBS[j]['duration'] for j in m.J])\n",
    "\n",
    "    # decision variables\n",
    "    m.start      = Var(m.J, domain=NonNegativeReals, bounds=(0, tmax))\n",
    "    m.pastdue    = Var(m.J, domain=NonNegativeReals, bounds=(0, tmax))\n",
    "    m.early      = Var(m.J, domain=NonNegativeReals, bounds=(0, tmax))\n",
    "    \n",
    "    # additional decision variables for use in the objecive\n",
    "    m.makespan   = Var(domain=NonNegativeReals, bounds=(0, tmax))\n",
    "    m.maxpastdue = Var(domain=NonNegativeReals, bounds=(0, tmax))\n",
    "    m.ispastdue  = Var(m.J, domain=Binary)\n",
    "\n",
    "    # objective function\n",
    "    m.OBJ = Objective(expr = sum([m.pastdue[j] for j in m.J]), sense = minimize)\n",
    "\n",
    "    # constraints\n",
    "    m.c1 = Constraint(m.J, rule=lambda m, j: m.start[j] >= JOBS[j]['release'])\n",
    "    m.c2 = Constraint(m.J, rule=lambda m, j: \n",
    "            m.start[j] + JOBS[j]['duration'] + m.early[j] == JOBS[j]['due'] + m.pastdue[j])\n",
    "    m.c3 = Disjunction(m.PAIRS, rule=lambda m, j, k:\n",
    "        [m.start[j] + JOBS[j]['duration'] <= m.start[k], \n",
    "         m.start[k] + JOBS[k]['duration'] <= m.start[j]])    \n",
    "    \n",
    "    m.c4 = Constraint(m.J, rule=lambda m, j: m.pastdue[j] <= m.maxpastdue)\n",
    "    m.c5 = Constraint(m.J, rule=lambda m, j: m.start[j] + JOBS[j]['duration'] <= m.makespan)\n",
    "    m.c6 = Constraint(m.J, rule=lambda m, j: m.pastdue[j] <= tmax*m.ispastdue[j])\n",
    "    \n",
    "    TransformationFactory('gdp.chull').apply_to(m)\n",
    "    SolverFactory('cbc').solve(m).write()\n",
    "    \n",
    "    SCHEDULE = {}\n",
    "    for j in m.J:\n",
    "        SCHEDULE[j] = {'machine': 1, 'start': m.start[j](), 'finish': m.start[j]() + JOBS[j]['duration']}\n",
    "        \n",
    "    return SCHEDULE\n",
    "\n",
    "SCHEDULE = opt_schedule(JOBS)\n",
    "gantt(JOBS, SCHEDULE)\n",
    "kpi(JOBS, SCHEDULE)"
   ]
  },
  {
   "cell_type": "markdown",
   "id": "a845cd4d",
   "metadata": {},
   "source": [
    "**Multiple machines**\n",
    "\n",
    "The case of multiple machines requires a modest extension of model described above. Given a set $M$ of machines, we introduce an additional decision binary variable $z_{j,m}$ indicating if job $j$ has been assigned to machine $m$. The additional constraints\n",
    "\n",
    "\\begin{align*}\n",
    "\\sum_{m\\in M}z_{j,m} & = 1 & \\forall j\n",
    "\\end{align*}\n",
    "\n",
    "require each job to be assigned to exactly one machine for processing.  \n",
    "\n",
    "If both jobs $j$ and $k$ have been assigned to machine $m$, then the disjunctive ordering constraints must apply.  This logic is equivalent to the following constraints for $j < k$.\n",
    "\n",
    "\\begin{align*}\n",
    "\\text{start}_{j}+\\text{duration}_{j} & \\leq \\text{start}_{k}+My_{j,k} + M(1-z_{j,m}) + M(1-z_{k,m})\\\\\n",
    "\\text{start}_{k}+\\text{duration}_{k} & \\leq \\text{start}_{j}+M(1-y_{j,k}) + M(1-z_{j,m}) + M(1-z_{k,m}))\n",
    "\\end{align*}"
   ]
  },
  {
   "cell_type": "code",
   "execution_count": null,
   "id": "afd824d2",
   "metadata": {},
   "outputs": [],
   "source": [
    "MACHINES = ['A','B']\n",
    "\n",
    "def schedule_machines(JOBS, MACHINES):\n",
    "    \n",
    "    # create model\n",
    "    m = ConcreteModel()\n",
    "    \n",
    "    # index set to simplify notation\n",
    "    m.J = Set(initialize=JOBS.keys())\n",
    "    m.M = Set(initialize=MACHINES)\n",
    "    m.PAIRS = Set(initialize = m.J * m.J, dimen=2, filter=lambda m, j, k : j < k)\n",
    "\n",
    "    # decision variables\n",
    "    m.start      = Var(m.J, bounds=(0, 1000))\n",
    "    m.makespan   = Var(domain=NonNegativeReals)\n",
    "    m.pastdue    = Var(m.J, domain=NonNegativeReals)\n",
    "    m.early      = Var(m.J, domain=NonNegativeReals)\n",
    "    \n",
    "    # additional decision variables for use in the objecive\n",
    "    m.ispastdue  = Var(m.J, domain=Binary)\n",
    "    m.maxpastdue = Var(domain=NonNegativeReals)\n",
    "    \n",
    "    # for binary assignment of jobs to machines\n",
    "    m.z = Var(m.J, m.M, domain=Binary)\n",
    "\n",
    "    # for modeling disjunctive constraints\n",
    "    m.y = Var(m.PAIRS, domain=Binary)\n",
    "    BigM = max([JOBS[j]['release'] for j in m.J]) + sum([JOBS[j]['duration'] for j in m.J])\n",
    "\n",
    "    m.OBJ = Objective(expr = sum(m.pastdue[j] for j in m.J) + m.makespan - sum(m.early[j] for j in m.J), sense = minimize)\n",
    "\n",
    "    m.c1 = Constraint(m.J, rule=lambda m, j: \n",
    "            m.start[j] >= JOBS[j]['release'])\n",
    "    m.c2 = Constraint(m.J, rule=lambda m, j:\n",
    "            m.start[j] + JOBS[j]['duration'] + m.early[j] == JOBS[j]['due'] + m.pastdue[j])\n",
    "    m.c3 = Constraint(m.J, rule=lambda m, j: \n",
    "            sum(m.z[j,mach] for mach in m.M) == 1)\n",
    "    m.c4 = Constraint(m.J, rule=lambda m, j: \n",
    "            m.pastdue[j] <= BigM*m.ispastdue[j])\n",
    "    m.c5 = Constraint(m.J, rule=lambda m, j: \n",
    "            m.pastdue[j] <= m.maxpastdue)\n",
    "    m.c6 = Constraint(m.J, rule=lambda m, j: \n",
    "            m.start[j] + JOBS[j]['duration'] <= m.makespan)\n",
    "    m.d1 = Constraint(m.M, m.PAIRS, rule = lambda m, mach, j, k:\n",
    "            m.start[j] + JOBS[j]['duration'] <= m.start[k] + BigM*(m.y[j,k] + (1-m.z[j,mach]) + (1-m.z[k,mach])))\n",
    "    m.d2 = Constraint(m.M, m.PAIRS, rule = lambda m, mach, j, k: \n",
    "            m.start[k] + JOBS[k]['duration'] <= m.start[j] + BigM*((1-m.y[j,k]) + (1-m.z[j,mach]) + (1-m.z[k,mach])))\n",
    "    \n",
    "    SolverFactory('cbc').solve(m).write()\n",
    "    \n",
    "    SCHEDULE = {}\n",
    "    for j in m.J:\n",
    "        SCHEDULE[j] = {\n",
    "            'start': m.start[j](), \n",
    "            'finish': m.start[j]() + JOBS[j]['duration'],\n",
    "            'machine': [mach for mach in MACHINES if m.z[j,mach]][0]\n",
    "        }\n",
    "        \n",
    "    return SCHEDULE\n",
    "        \n",
    "SCHEDULE = schedule_machines(JOBS,MACHINES)\n",
    "gantt(JOBS, SCHEDULE)\n",
    "kpi(JOBS, SCHEDULE)"
   ]
  },
  {
   "cell_type": "markdown",
   "id": "c64dcf0f",
   "metadata": {},
   "source": [
    "**Disjunctive Version**"
   ]
  },
  {
   "cell_type": "code",
   "execution_count": null,
   "id": "88c359f7",
   "metadata": {},
   "outputs": [],
   "source": [
    "MACHINES = ['A','B']\n",
    "\n",
    "def schedule_machines(JOBS, MACHINES):\n",
    "    \n",
    "    # create model\n",
    "    m = ConcreteModel()\n",
    "    \n",
    "    # index set to simplify notation\n",
    "    m.J = Set(initialize=JOBS.keys())\n",
    "    m.M = Set(initialize=MACHINES)\n",
    "    m.PAIRS = Set(initialize = m.J * m.J, dimen=2, filter=lambda m, j, k : j < k)\n",
    "\n",
    "    # decision variables\n",
    "    m.start      = Var(m.J, bounds=(0, 1000))\n",
    "    m.makespan   = Var(domain=NonNegativeReals)\n",
    "    m.pastdue    = Var(m.J, bounds=(0, 1000))\n",
    "    m.early      = Var(m.J, bounds=(0, 10000))\n",
    "    \n",
    "    # additional decision variables for use in the objecive\n",
    "    m.ispastdue  = Var(m.J, domain=Binary)\n",
    "    m.maxpastdue = Var(domain=NonNegativeReals)\n",
    "    \n",
    "    # for binary assignment of jobs to machines\n",
    "    m.z = Var(m.J, m.M, domain=Binary)\n",
    "\n",
    "    # for modeling disjunctive constraints\n",
    "    BigM = max([JOBS[j]['release'] for j in m.J]) + sum([JOBS[j]['duration'] for j in m.J])\n",
    "\n",
    "    m.OBJ = Objective(expr = sum(m.pastdue[j] for j in m.J) + m.makespan - sum(m.early[j] for j in m.J), sense = minimize)\n",
    "\n",
    "    # job starts after it is released\n",
    "    m.c1 = Constraint(m.J, rule=lambda m, j: m.start[j] >= JOBS[j]['release'])\n",
    "\n",
    "    # defines early and pastdue\n",
    "    m.c2 = Constraint(m.J, rule=lambda m, j: m.start[j] + JOBS[j]['duration'] + m.early[j] == JOBS[j]['due'] + m.pastdue[j])\n",
    "    m.d1 = Disjunction(m.J, rule=lambda m, j: [m.early[j]==0, m.pastdue[j]==0])\n",
    "\n",
    "    # each job is assigned to one and only one machine\n",
    "    m.c3 = Constraint(m.J, rule=lambda m, j: sum(m.z[j, mach] for mach in m.M) == 1)\n",
    "\n",
    "    # defines a binary variable indicating if a job is past due\n",
    "    m.c4 = Disjunction(m.J, rule=lambda m, j: [m.pastdue[j] == 0, m.ispastdue[j] == 1])\n",
    "\n",
    "    # all jobs must be finished before max pastdue\n",
    "    m.c5 = Constraint(m.J, rule=lambda m, j: m.pastdue[j] <= m.maxpastdue)\n",
    "\n",
    "    # defining make span\n",
    "    m.c6 = Constraint(m.J, rule=lambda m, j: m.start[j] + JOBS[j]['duration'] <= m.makespan)\n",
    " \n",
    "    # disjuctions\n",
    "    m.d0 = Disjunction(m.M, m.PAIRS, rule = lambda m, mach, j, k: \n",
    "                       [m.start[j] + JOBS[j]['duration'] <= m.start[k] + BigM*((1-m.z[j, mach]) + (1-m.z[k, mach])),\n",
    "                        m.start[k] + JOBS[k]['duration'] <= m.start[j] + BigM*((1-m.z[j, mach]) + (1-m.z[k, mach]))])\n",
    "  \n",
    "    transform = TransformationFactory('gdp.hull')\n",
    "    transform.apply_to(m)\n",
    "\n",
    "    SolverFactory('cbc').solve(m).write()\n",
    "    \n",
    "    SCHEDULE = {}\n",
    "    for j in m.J:\n",
    "        SCHEDULE[j] = {\n",
    "            'start': m.start[j](), \n",
    "            'finish': m.start[j]() + JOBS[j]['duration'],\n",
    "            'machine': [mach for mach in MACHINES if m.z[j,mach]][0]\n",
    "        }\n",
    "        \n",
    "    return SCHEDULE\n",
    "        \n",
    "SCHEDULE = schedule_machines(JOBS,MACHINES)\n",
    "gantt(JOBS, SCHEDULE)\n",
    "kpi(JOBS, SCHEDULE)"
   ]
  },
  {
   "cell_type": "markdown",
   "id": "57607f7f",
   "metadata": {},
   "source": [
    "#### Soft Landing Apollo 11 on the Moon\n",
    "##### Summary\n",
    "Keywords: optimal control, ipopt usage, dae, differential-algebraic equations, rescaling time\n",
    "\n",
    "Landing a rocket on the surface of a planet was once a staple of science fiction, and then realized in the 1960's through multiple manned and unmanned landings on the moon. It's hard to overestimate the degree to which these missions inspired a new generation \n",
    "\n",
    "![](https://upload.wikimedia.org/wikipedia/commons/thumb/c/cf/Eagle_In_Lunar_Orbit_-_GPN-2000-001210.jpg/368px-Eagle_In_Lunar_Orbit_-_GPN-2000-001210.jpg)\n",
    "\n",
    "<a title=\"NASA Michael Collins [Public domain], via Wikimedia Commons\" href=\"https://commons.wikimedia.org/wiki/File:Eagle_In_Lunar_Orbit_-_GPN-2000-001210.jpg\"></a>\n",
    "NASA Michael Collins [Public domain]\n",
    "\n",
    "**Rocket Landing Videos** (these never get old):\n",
    "\n",
    "* [Apollo 11 Landing on the Moon, July 20, 1969](https://youtu.be/k_OD2V6fMLQ)\n",
    "* [SpaceX Falcon Heavy Side Boosters Landing at Kennedy Space Center, February 6, 2018 ](https://youtu.be/u0-pfzKbh2k)\n",
    "* [Blue Origin, November 24, 2014](https://youtu.be/9pillaOxGCo?t=103)\n",
    "\n",
    "Inspired by these examples, this notebook uses Pyomo and a simple model of a rocket to compute a control policy for a soft landing. The parameters used correspond to the descent of the Apollo 11 Lunar Module to the moon on July 20, 1969.\n",
    "\n",
    "**Imports**"
   ]
  },
  {
   "cell_type": "code",
   "execution_count": null,
   "id": "05374b3e",
   "metadata": {},
   "outputs": [],
   "source": [
    "%matplotlib inline\n",
    "\n",
    "import matplotlib.pyplot as plt\n",
    "import numpy as np\n",
    "\n",
    "import shutil\n",
    "import sys\n",
    "import os.path\n",
    "\n",
    "if not shutil.which(\"pyomo\"):\n",
    "    !pip install -q pyomo\n",
    "    assert(shutil.which(\"pyomo\"))\n",
    "\n",
    "if not (shutil.which(\"ipopt\") or os.path.isfile(\"ipopt\")):\n",
    "    if \"google.colab\" in sys.modules:\n",
    "        !wget -N -q \"https://ampl.com/dl/open/ipopt/ipopt-linux64.zip\"\n",
    "        !unzip -o -q ipopt-linux64\n",
    "    else:\n",
    "        try:\n",
    "            !conda install -c conda-forge ipopt \n",
    "        except:\n",
    "            pass\n",
    "\n",
    "assert(shutil.which(\"ipopt\") or os.path.isfile(\"ipopt\"))\n",
    "from pyomo.environ import *\n",
    "from pyomo.dae import *"
   ]
  },
  {
   "cell_type": "markdown",
   "id": "c6ddfec3",
   "metadata": {},
   "source": [
    "##### Problem statement\n",
    "**Version 1: Vertical dynamics of a rocket with constant mass**\n",
    "\n",
    "For a rocket with a mass $m$ in vertical flight at altitude $h$, a momentum balance yields the model\n",
    "\n",
    "\\begin{align*}\n",
    "m\\frac{d^2h}{dt^2} & = - m g + v_eu \\\\\n",
    "\\end{align*}\n",
    "\n",
    "where $u$ is the mass flow of propellant and $v_e$ is the velocity of the exhaust relative to the rocket. In this first attempt at modeling and control we will neglect the change in rocket mass due to fuel burn.\n",
    "\n",
    "![](https://upload.wikimedia.org/wikipedia/commons/thumb/1/13/LM_illustration_02-IT.png/368px-LM_illustration_02-IT.png)\n",
    "\n",
    "<a title=\"LM_illustration_02.jpg: NASA Marshall Space Flight Center (NASA-MSFC)\n",
    "derivative work: Adert [Public domain], via Wikimedia Commons\" href=\"https://commons.wikimedia.org/wiki/File:LM_illustration_02-IT.png\"></a>\n",
    "\n",
    "LM_illustration_02.jpg: NASA Marshall Space Flight Center (NASA-MSFC)derivative work: Adert [Public domain]\n",
    "\n",
    "The complete Apollo lunar module was composed of descent and ascent stages, each containing a rocket engine and associated fuel tanks. The descent stage carried the entire assembly to the lunar surface.  The total mass $m$ in the above model therefore consists of the dry and fuel masses of both stages. For the purpose of analyzing the descent of the lunar module to the lunar surface, the 'dry' mass consists of the total mass of the ascent stage plus the dry mass of the descent stage. \n",
    "\n",
    "The following data is for the [Apollo 11 Lunar Module](https://nssdc.gsfc.nasa.gov/nmc/spacecraft/display.action?id=1969-059C)."
   ]
  },
  {
   "cell_type": "code",
   "execution_count": null,
   "id": "469f5abc",
   "metadata": {},
   "outputs": [],
   "source": [
    "# lunar module\n",
    "m_ascent_dry = 2445.0          # kg mass of ascent stage without fuel\n",
    "m_ascent_fuel = 2376.0         # kg mass of ascent stage fuel\n",
    "m_descent_dry = 2034.0         # kg mass of descent stage without fuel\n",
    "m_descent_fuel = 8248.0        # kg mass of descent stage fuel\n",
    "\n",
    "m_fuel = m_descent_fuel\n",
    "m_dry = m_ascent_dry + m_ascent_fuel + m_descent_dry\n",
    "m_total = m_dry + m_fuel\n",
    "\n",
    "# descent engine characteristics\n",
    "v_exhaust = 3050.0             # m/s\n",
    "u_max = 45050.0/v_exhaust      # 45050 newtons / exhaust velocity\n",
    "\n",
    "# landing mission specifications\n",
    "h_initial = 100000.0           # meters\n",
    "v_initial = 1520               # orbital velocity m/s\n",
    "g = 1.62                       # m/s**2"
   ]
  },
  {
   "cell_type": "markdown",
   "id": "53b55eff",
   "metadata": {},
   "source": [
    "**First attempt at a solution**\n",
    "\n",
    "For this first attempt at a solution, we will choose an arbitrary value for the length of the landing mission. The integration will start with the initial conditions, and we'll see what happens."
   ]
  },
  {
   "cell_type": "code",
   "execution_count": null,
   "id": "f4fd2e63",
   "metadata": {},
   "outputs": [],
   "source": [
    "t_f = 100\n",
    "\n",
    "m = ConcreteModel()\n",
    "m.t = ContinuousSet(bounds=(0, t_f))\n",
    "m.h = Var(m.t)\n",
    "m.u = Var(m.t, domain=NonNegativeReals)\n",
    "\n",
    "m.v = DerivativeVar(m.h, wrt=m.t)\n",
    "m.a = DerivativeVar(m.v, wrt=m.t)\n",
    "\n",
    "m.ode1 = Constraint(m.t, rule = lambda m, t: m_total*m.a[t] == -m_total*g + v_exhaust*m.u[t])\n",
    "\n",
    "m.h[0].fix(h_initial)\n",
    "m.v[0].fix(-v_initial)\n",
    "\n",
    "def solve(m):\n",
    "  \n",
    "    TransformationFactory('dae.finite_difference').apply_to(m, nfe=200, scheme='FORWARD')\n",
    "    SolverFactory('ipopt').solve(m)\n",
    "    \n",
    "    tsim = [t for t in m.t]\n",
    "    hsim = [m.h[t]() for t in m.t]\n",
    "    usim = [m.u[t]() for t in m.t]\n",
    "\n",
    "    plt.figure(figsize=(10, 8))\n",
    "    plt.subplot(3,1,1)\n",
    "    plt.plot(tsim, hsim)\n",
    "    plt.title('altitude')\n",
    "    plt.xlabel('time / seconds')\n",
    "    plt.ylabel('meters')\n",
    "    plt.grid(True)\n",
    "\n",
    "    plt.subplot(3,1,2)\n",
    "    plt.plot(tsim, usim)\n",
    "    plt.title('engine mass flow')\n",
    "    plt.xlabel('time / seconds')\n",
    "    plt.ylabel('kg/sec')\n",
    "    plt.grid(True)\n",
    "\n",
    "    plt.tight_layout()\n",
    "\n",
    "solve(m)"
   ]
  },
  {
   "cell_type": "markdown",
   "id": "06684113",
   "metadata": {},
   "source": [
    "This first attempt at a solution included no specification related to landing on the lunar surface. The solver reported a solution where the engine doesn't fire, and the lunar module crashes into the lunar surface at full speed about 66 seconds after the start of the descent mission.\n",
    "\n",
    "**Land on the surface, not above or below the surface.**<br>\n",
    "\n",
    "The mission crashed!  It's clear now that we haven't fully specified the desired outcome of the mission.  Let's start by specifying the final condition as being on the surface\n",
    "\n",
    "$$h(t_f) = 0$$\n",
    "\n",
    "This condition is implemented in Pyomo by fixing the terminal value of $h$."
   ]
  },
  {
   "cell_type": "code",
   "execution_count": null,
   "id": "2dd7696e",
   "metadata": {},
   "outputs": [],
   "source": [
    "t_f = 100\n",
    "\n",
    "m = ConcreteModel()\n",
    "m.t = ContinuousSet(bounds=(0, t_f))\n",
    "m.h = Var(m.t)\n",
    "m.u = Var(m.t, domain=NonNegativeReals)\n",
    "\n",
    "m.v = DerivativeVar(m.h, wrt=m.t)\n",
    "m.a = DerivativeVar(m.v, wrt=m.t)\n",
    "\n",
    "m.ode1 = Constraint(m.t, rule = lambda m, t: m_total*m.a[t] == -m_total*g + v_exhaust*m.u[t])\n",
    "\n",
    "m.h[0].fix(h_initial)\n",
    "m.v[0].fix(-v_initial)\n",
    "\n",
    "m.h[t_f].fix(0)    # land on surface\n",
    "\n",
    "solve(m)"
   ]
  },
  {
   "cell_type": "markdown",
   "id": "40a6e12b",
   "metadata": {},
   "source": [
    "The descent mission now finishes the descent at the lunar surface, but unfortunately arrives with sufficient velocity to still be considered a crash.\n",
    "\n",
    "**Make that a soft landing**\n",
    "\n",
    "To ensure a soft landing, we also need to specify a terminal velocity.  The terminal conditions are now\n",
    "\n",
    "\\begin{align*}\n",
    "h(t_f) & = 0 \\\\\n",
    "v(t_f) & = 0\n",
    "\\end{align*}\n",
    "\n",
    "These conditions are implement by fixing terminal values of the associated Pyomo variables."
   ]
  },
  {
   "cell_type": "code",
   "execution_count": null,
   "id": "9140e844",
   "metadata": {},
   "outputs": [],
   "source": [
    "t_f = 100\n",
    "\n",
    "m = ConcreteModel()\n",
    "m.t = ContinuousSet(bounds=(0, t_f))\n",
    "m.h = Var(m.t)\n",
    "m.u = Var(m.t, domain=NonNegativeReals)\n",
    "\n",
    "m.v = DerivativeVar(m.h, wrt=m.t)\n",
    "m.a = DerivativeVar(m.v, wrt=m.t)\n",
    "\n",
    "m.ode1 = Constraint(m.t, rule = lambda m, t: m_total*m.a[t] == -m_total*g + v_exhaust*m.u[t])\n",
    "\n",
    "m.h[0].fix(h_initial)\n",
    "m.v[0].fix(-v_initial)\n",
    "\n",
    "m.h[t_f].fix(0)    # land on surface\n",
    "m.v[t_f].fix(0)    # soft landing\n",
    "\n",
    "solve(m)"
   ]
  },
  {
   "cell_type": "markdown",
   "id": "4aa8fc06",
   "metadata": {},
   "source": [
    "The lunar module now is now successfully landing on the lunar surface, but the fuel flow requirement exceeds the maximum capacity of the descent engine.<br>\n",
    "\n",
    "**Restrict fuel flow to engine capacity**<br>\n",
    "\n",
    "The next step is establish constraints on the control action by limiting fuel flow to the mass flow limits of the descent engine.\n",
    "\n",
    "$$ 0 \\leq u(t) \\leq u_{max}$$\n",
    "\n",
    "Since less thrust is available, we may need to extend the length of the landing mission to find a feasible solution to the optimization problem."
   ]
  },
  {
   "cell_type": "code",
   "execution_count": null,
   "id": "761ec1dc",
   "metadata": {},
   "outputs": [],
   "source": [
    "t_f = 3000\n",
    "\n",
    "m = ConcreteModel()\n",
    "m.t = ContinuousSet(bounds=(0, t_f))\n",
    "m.h = Var(m.t)\n",
    "m.u = Var(m.t, bounds=(0, u_max))\n",
    "\n",
    "m.v = DerivativeVar(m.h, wrt=m.t)\n",
    "m.a = DerivativeVar(m.v, wrt=m.t)\n",
    "\n",
    "m.ode1 = Constraint(m.t, rule = lambda m, t: m_total*m.a[t] == -m_total*g + v_exhaust*m.u[t])\n",
    "\n",
    "m.h[0].fix(h_initial)\n",
    "m.v[0].fix(-v_initial)\n",
    "\n",
    "m.h[t_f].fix(0)    # land on surface\n",
    "m.v[t_f].fix(0)    # soft landing\n",
    "\n",
    "solve(m)"
   ]
  },
  {
   "cell_type": "markdown",
   "id": "f7333140",
   "metadata": {},
   "source": [
    "##### Version 2: Rescaled model #####\n",
    "\n",
    "At this point, it's now clear the first version of this model has run into some serious problems:\n",
    "\n",
    "* The calculated trajectory takes us through a crash landing and trip through the interior of the moon. \n",
    "* The engine thrust never goes to zero, even when the lander is at zero velocity and on the surface. The reason is that the model doesn't account for the reaction force of the surface on the lander. So the lander is really just hoovering rather than landing.\n",
    "* There is no obvious means of estimating the time required for the mission. \n",
    "\n",
    "Let's begin with the last issue. We will introduce an additional decision variable $T$ denoting the length of the mission. Time is then rescaled as\n",
    "\n",
    "$$\\tau = \\frac{t}{T}\\quad\\implies\\quad t =\\tau T$$\n",
    "\n",
    "The differential equation model then becomes\n",
    "\n",
    "\\begin{align*}\n",
    "\\frac{m}{T^2}\\frac{d^2h}{d\\tau^2} & = - m g + v_eu \\\\\n",
    "\\end{align*}\n",
    "\n",
    "The net result is that an additional variable, $T$, denoting the duration of the descent mission has been introduced into the optimization problem."
   ]
  },
  {
   "cell_type": "code",
   "execution_count": null,
   "id": "3b82e988",
   "metadata": {},
   "outputs": [],
   "source": [
    "m = ConcreteModel()\n",
    "m.t = ContinuousSet(bounds=(0, 1))\n",
    "m.h = Var(m.t)\n",
    "m.u = Var(m.t, bounds=(0, u_max))\n",
    "m.T = Var(domain=NonNegativeReals)\n",
    "\n",
    "m.v = DerivativeVar(m.h, wrt=m.t)\n",
    "m.a = DerivativeVar(m.v, wrt=m.t)\n",
    "\n",
    "m.ode1 = Constraint(m.t, rule = lambda m, t: \n",
    "    m_total*m.a[t]/m.T**2 == -m_total*g + v_exhaust*m.u[t])\n",
    "\n",
    "m.h[0].fix(h_initial)\n",
    "m.v[0].fix(-v_initial)\n",
    "\n",
    "m.h[1].fix(0)    # land on surface\n",
    "m.v[1].fix(0)    # soft landing\n",
    "\n",
    "def solve(m):\n",
    "  \n",
    "    TransformationFactory('dae.finite_difference').apply_to(m, nfe=50, scheme='FORWARD')\n",
    "    SolverFactory('ipopt').solve(m)\n",
    "    \n",
    "    tsim = [t*m.T() for t in m.t]\n",
    "    hsim = [m.h[t]() for t in m.t]\n",
    "    usim = [m.u[t]() for t in m.t]\n",
    "\n",
    "    plt.subplot(2,1,1)\n",
    "    plt.plot(tsim, hsim)\n",
    "    plt.title('altitude')\n",
    "    plt.xlabel('time / seconds')\n",
    "    plt.ylabel('meters')\n",
    "    plt.legend(['mission length =' + str(round(m.T(),1)) + ' seconds'])\n",
    "    plt.grid(True)\n",
    "    \n",
    "    plt.subplot(2,1,2)\n",
    "    plt.plot(tsim, usim)\n",
    "    plt.title('engine mass flow')\n",
    "    plt.xlabel('time / seconds')\n",
    "    plt.ylabel('kg/sec')\n",
    "    plt.grid(True)\n",
    "    \n",
    "    plt.tight_layout()\n",
    "\n",
    "solve(m)"
   ]
  },
  {
   "cell_type": "markdown",
   "id": "e207b602",
   "metadata": {},
   "source": [
    "##### Objective\n",
    "\n",
    "**How much fuel is burned?**<br>\n",
    "\n",
    "Fuel consumption can be calculated as\n",
    "\n",
    "\\begin{align*}\n",
    "\\mbox{fuel consumed} = \\int_0^T u(t)\\,dt  = T \\int_0^1u(\\tau)\\,d\\tau\n",
    "\\end{align*}"
   ]
  },
  {
   "cell_type": "code",
   "execution_count": null,
   "id": "73172a05",
   "metadata": {},
   "outputs": [],
   "source": [
    "m = ConcreteModel()\n",
    "m.t = ContinuousSet(bounds=(0, 1))\n",
    "m.h = Var(m.t)\n",
    "m.u = Var(m.t, bounds=(0, u_max))\n",
    "m.T = Var(domain=NonNegativeReals)\n",
    "\n",
    "m.v = DerivativeVar(m.h, wrt=m.t)\n",
    "m.a = DerivativeVar(m.v, wrt=m.t)\n",
    "\n",
    "m.fuel = Integral(m.t, wrt=m.t, rule = lambda m, t: m.u[t]*m.T)\n",
    "\n",
    "m.ode1 = Constraint(m.t, rule = lambda m, t: \n",
    "    m_total*m.a[t]/m.T**2 == -m_total*g + v_exhaust*m.u[t])\n",
    "\n",
    "m.h[0].fix(h_initial)\n",
    "m.v[0].fix(-v_initial)\n",
    "\n",
    "m.h[1].fix(0)    # land on surface\n",
    "m.v[1].fix(0)    # soft landing\n",
    "\n",
    "def solve(m):\n",
    "    TransformationFactory('dae.finite_difference').apply_to(m, nfe=50, scheme='FORWARD')\n",
    "    SolverFactory('ipopt').solve(m)\n",
    "    \n",
    "    tsim = [t*m.T() for t in m.t]\n",
    "    hsim = [m.h[t]() for t in m.t]\n",
    "    usim = [m.u[t]() for t in m.t]\n",
    "\n",
    "    plt.subplot(2,1,1)\n",
    "    plt.plot(tsim, hsim)\n",
    "    plt.title('altitude')\n",
    "    plt.ylabel('meters')\n",
    "    plt.legend(['mission length = ' + str(round(m.T(),1)) + ' seconds'])\n",
    "    plt.grid(True)\n",
    "\n",
    "    plt.subplot(2,1,2)\n",
    "    plt.plot(tsim, usim)\n",
    "    plt.title('engine mass flow')\n",
    "    plt.xlabel('time / seconds')\n",
    "    plt.ylabel('kg/sec')\n",
    "    plt.legend(['fuel burned = ' + str(round(m.fuel(),1)) + ' kg'])\n",
    "    plt.grid(True)\n",
    "\n",
    "    plt.tight_layout()\n",
    "\n",
    "solve(m)"
   ]
  },
  {
   "cell_type": "markdown",
   "id": "02dbe14a",
   "metadata": {},
   "source": [
    "Minimize fuel consumption\n",
    "\n",
    "$$\\min_{u(\\tau), T} T\\int_0^1 u(\\tau)\\, d\\tau$$"
   ]
  },
  {
   "cell_type": "code",
   "execution_count": null,
   "id": "68c4b68b",
   "metadata": {},
   "outputs": [],
   "source": [
    "m = ConcreteModel()\n",
    "m.t = ContinuousSet(bounds=(0, 1))\n",
    "m.h = Var(m.t)\n",
    "m.u = Var(m.t, bounds=(0, u_max))\n",
    "m.T = Var(domain=NonNegativeReals)\n",
    "\n",
    "m.v = DerivativeVar(m.h, wrt=m.t)\n",
    "m.a = DerivativeVar(m.v, wrt=m.t)\n",
    "\n",
    "m.fuel = Integral(m.t, wrt=m.t, rule = lambda m, t: m.u[t]*m.T)\n",
    "m.obj = Objective(expr=m.fuel, sense=minimize)\n",
    "\n",
    "m.ode1 = Constraint(m.t, rule = lambda m, t: m_total*m.a[t]/m.T**2 == -m_total*g + v_exhaust*m.u[t])\n",
    "\n",
    "m.h[0].fix(h_initial)\n",
    "m.v[0].fix(-v_initial)\n",
    "\n",
    "m.h[1].fix(0)    # land on surface\n",
    "m.v[1].fix(0)    # soft landing\n",
    "\n",
    "solve(m)"
   ]
  },
  {
   "cell_type": "markdown",
   "id": "3af4d72a",
   "metadata": {},
   "source": [
    "##### Version 3: Rocket model#####\n",
    "\n",
    "The first version of the rocket model has run into a serious problem because it appears not to provide enough mass flow to the engine to prevent a crash landing. But that may be an artifact of the assumption of constant mass. For Apollo 11 Lunar Module, for example, the fuel in the descent engine comprises more than 50% of the total mass of the lander.\n",
    "\n",
    "For the second version of the rocket model, we augment the model with a mass balance for fuel. This yields \n",
    "\n",
    "\\begin{align*}\n",
    "\\frac{m(t)}{T^2}\\frac{d^2h}{d\\tau^2} = - m(t)g + v_eu \\\\\n",
    "\\\\\n",
    "\\frac{1}{T}\\frac{dm}{d\\tau} & = -u\n",
    "\\end{align*}\n",
    "\n",
    "At this point we need to worry about nonsensical answers to the optimization for minimum fuel. For this purpose we add upper and lower bounds on $T$ that should restrict the solver to meaningful solutions."
   ]
  },
  {
   "cell_type": "code",
   "execution_count": null,
   "id": "b0d226c5",
   "metadata": {},
   "outputs": [],
   "source": [
    "m = ConcreteModel()\n",
    "m.t = ContinuousSet(bounds=(0, 1))\n",
    "m.h = Var(m.t, domain=NonNegativeReals)\n",
    "m.m = Var(m.t)\n",
    "m.u = Var(m.t, bounds=(0, u_max))\n",
    "m.T = Var(bounds=(50,3000))\n",
    "\n",
    "m.v = DerivativeVar(m.h, wrt=m.t)\n",
    "m.a = DerivativeVar(m.v, wrt=m.t)\n",
    "m.mdot = DerivativeVar(m.m, wrt=m.t)\n",
    "\n",
    "m.fuel = Integral(m.t, wrt=m.t, rule = lambda m, t: m.u[t]*m.T)\n",
    "m.obj = Objective(expr=m.fuel, sense=minimize)\n",
    "\n",
    "m.ode1 = Constraint(m.t, rule = lambda m, t: m.m[t]*m.a[t]/m.T**2 == -m.m[t]*g + v_exhaust*m.u[t])\n",
    "m.ode2 = Constraint(m.t, rule = lambda m, t: m.mdot[t]/m.T == -m.u[t])\n",
    "\n",
    "m.h[0].fix(h_initial)\n",
    "m.v[0].fix(-v_initial)\n",
    "m.m[0].fix(m_total)\n",
    "\n",
    "m.h[1].fix(0)    # land on surface\n",
    "m.v[1].fix(0)    # soft landing\n",
    "\n",
    "def solve(m):\n",
    "    TransformationFactory('dae.finite_difference').apply_to(m, nfe=50, scheme='FORWARD')\n",
    "    SolverFactory('ipopt').solve(m)\n",
    "    \n",
    "    m_nonfuel = m_ascent_dry + m_ascent_fuel + m_descent_dry\n",
    "    \n",
    "    tsim = [t*m.T() for t in m.t]\n",
    "    hsim = [m.h[t]() for t in m.t]\n",
    "    usim = [m.u[t]() for t in m.t]\n",
    "    fsim = [m.m[t]() - m_nonfuel for t in m.t]\n",
    "\n",
    "    plt.figure(figsize=(8,6))\n",
    "    plt.subplot(3,1,1)\n",
    "    plt.plot(tsim, hsim)\n",
    "    plt.title('altitude')\n",
    "    plt.ylabel('meters')\n",
    "    plt.legend(['mission length = ' + str(round(m.T(),1)) + ' seconds'])\n",
    "    plt.grid(True)\n",
    "\n",
    "    plt.subplot(3,1,2)\n",
    "    plt.plot(tsim, usim)\n",
    "    plt.title('engine mass flow')\n",
    "    plt.ylabel('kg/sec')\n",
    "    plt.legend(['fuel burned = ' + str(round(m.fuel(),1)) + ' kg'])\n",
    "    plt.grid(True)\n",
    "\n",
    "    plt.subplot(3,1,3)\n",
    "    plt.plot(tsim, fsim)\n",
    "    plt.title('fuel remaining')\n",
    "    plt.xlabel('time / seconds')\n",
    "    plt.ylabel('kg')\n",
    "    plt.legend(['fuel remaining = ' + str(round(fsim[-1],2)) + ' kg'])\n",
    "    plt.grid(True)\n",
    "\n",
    "    plt.tight_layout()\n",
    "\n",
    "solve(m)"
   ]
  },
  {
   "cell_type": "code",
   "execution_count": null,
   "id": "e6c2e8bc",
   "metadata": {},
   "outputs": [],
   "source": []
  }
 ],
 "metadata": {
  "kernelspec": {
   "display_name": "Python 3 (ipykernel)",
   "language": "python",
   "name": "python3"
  },
  "language_info": {
   "codemirror_mode": {
    "name": "ipython",
    "version": 3
   },
   "file_extension": ".py",
   "mimetype": "text/x-python",
   "name": "python",
   "nbconvert_exporter": "python",
   "pygments_lexer": "ipython3",
   "version": "3.8.8"
  }
 },
 "nbformat": 4,
 "nbformat_minor": 5
}
